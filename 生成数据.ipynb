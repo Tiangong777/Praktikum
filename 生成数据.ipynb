{
 "cells": [
  {
   "cell_type": "code",
   "execution_count": 149,
   "outputs": [],
   "source": [
    "import numpy as np\n",
    "from scipy.integrate import odeint\n",
    "import torch\n",
    "from d2l import torch as d2l\n",
    "from torch.utils.data import TensorDataset, DataLoader\n",
    "import torch.nn.functional as F\n",
    "from torch.optim.lr_scheduler import StepLR\n",
    "np.set_printoptions(suppress=True)\n",
    "import torch.nn as nn\n",
    "import matplotlib.pyplot as plt\n",
    "import time\n",
    "device=d2l.try_gpu()"
   ],
   "metadata": {
    "collapsed": false
   }
  },
  {
   "cell_type": "code",
   "execution_count": 3,
   "outputs": [],
   "source": [
    "# 定义ODE方程组\n",
    "def ode(y, t, beta, gamma, mu):\n",
    "    S, I, R, D, N = y\n",
    "    dSdt = -beta * S * I / N\n",
    "    dIdt = beta * S * I / N - (gamma + mu) * I\n",
    "    dRdt = gamma * I\n",
    "    dDdt = mu * I\n",
    "    dNdt = -mu * I\n",
    "    return [dSdt, dIdt, dRdt, dDdt, dNdt]"
   ],
   "metadata": {
    "collapsed": false
   }
  },
  {
   "cell_type": "code",
   "execution_count": 4,
   "outputs": [],
   "source": [
    "def guiyihua(data):\n",
    "    col_min, _ = torch.min(data, dim=0)\n",
    "    col_max, _ = torch.max(data, dim=0)\n",
    "    return col_min,col_max,F.normalize(data, dim=0)"
   ],
   "metadata": {
    "collapsed": false
   }
  },
  {
   "cell_type": "code",
   "execution_count": 75,
   "outputs": [],
   "source": [
    "def quweifen(data):\n",
    "    SIR=data[:,:5]\n",
    "    dSIR_dt = data[:, :5].clone()\n",
    "    dSIR_dt[1:, :] = SIR[1:, :] - SIR[:-1, :]\n",
    "    dSIR_dt[0, :] = 0\n",
    "    dSIR_dt /= t[1] - t[0]\n",
    "    return dSIR_dt"
   ],
   "metadata": {
    "collapsed": false
   }
  },
  {
   "cell_type": "code",
   "execution_count": 201,
   "outputs": [],
   "source": [
    "def woplot(data,t):\n",
    "    plt.plot(t, data[:,0], label='S')\n",
    "    plt.plot(t, data[:,1], label='I')\n",
    "    plt.plot(t, data[:,2], label='R')\n",
    "    plt.plot(t, data[:,3], label='D')\n",
    "    plt.plot(t, data[:,4], label='N')\n",
    "    plt.legend()\n",
    "    plt.show()"
   ],
   "metadata": {
    "collapsed": false
   }
  },
  {
   "cell_type": "code",
   "execution_count": 177,
   "outputs": [],
   "source": [
    "# 定义初始条件和参数\n",
    "y0 = [999, 1, 0, 0, 1000]\n",
    "T=150\n",
    "t = torch.arange(1, T + 1, dtype=torch.float32)\n",
    "beta = 0.4\n",
    "gamma = 0.1\n",
    "mu = 0.005\n",
    "\n",
    "simulation = torch.tensor(odeint(ode, y0, t, args=(beta, gamma, mu)))\n",
    "simulation=torch.cat((simulation, t.unsqueeze(-1)), dim=1)\n",
    "col_min,col_max,simulation_normalized =guiyihua(simulation)\n",
    "weifen=quweifen(simulation)\n",
    "# print(simulation)\n",
    "# plt.plot(simulation[:,0])\n",
    "# simulation+torch.randn(simulation.shape)\n",
    "# simulation_normalized[:,-1]"
   ],
   "metadata": {
    "collapsed": false
   }
  },
  {
   "cell_type": "code",
   "execution_count": 206,
   "outputs": [
    {
     "data": {
      "text/plain": "<Figure size 600x300 with 1 Axes>",
      "image/svg+xml": "<?xml version=\"1.0\" encoding=\"utf-8\" standalone=\"no\"?>\n<!DOCTYPE svg PUBLIC \"-//W3C//DTD SVG 1.1//EN\"\n  \"http://www.w3.org/Graphics/SVG/1.1/DTD/svg11.dtd\">\n<svg xmlns:xlink=\"http://www.w3.org/1999/xlink\" width=\"378.465625pt\" height=\"197.398125pt\" viewBox=\"0 0 378.465625 197.398125\" xmlns=\"http://www.w3.org/2000/svg\" version=\"1.1\">\n <metadata>\n  <rdf:RDF xmlns:dc=\"http://purl.org/dc/elements/1.1/\" xmlns:cc=\"http://creativecommons.org/ns#\" xmlns:rdf=\"http://www.w3.org/1999/02/22-rdf-syntax-ns#\">\n   <cc:Work>\n    <dc:type rdf:resource=\"http://purl.org/dc/dcmitype/StillImage\"/>\n    <dc:date>2023-04-17T23:47:18.722929</dc:date>\n    <dc:format>image/svg+xml</dc:format>\n    <dc:creator>\n     <cc:Agent>\n      <dc:title>Matplotlib v3.5.1, https://matplotlib.org/</dc:title>\n     </cc:Agent>\n    </dc:creator>\n   </cc:Work>\n  </rdf:RDF>\n </metadata>\n <defs>\n  <style type=\"text/css\">*{stroke-linejoin: round; stroke-linecap: butt}</style>\n </defs>\n <g id=\"figure_1\">\n  <g id=\"patch_1\">\n   <path d=\"M 0 197.398125 \nL 378.465625 197.398125 \nL 378.465625 0 \nL 0 0 \nz\n\" style=\"fill: #ffffff\"/>\n  </g>\n  <g id=\"axes_1\">\n   <g id=\"patch_2\">\n    <path d=\"M 36.465625 173.52 \nL 371.265625 173.52 \nL 371.265625 7.2 \nL 36.465625 7.2 \nz\n\" style=\"fill: #ffffff\"/>\n   </g>\n   <g id=\"matplotlib.axis_1\">\n    <g id=\"xtick_1\">\n     <g id=\"line2d_1\">\n      <defs>\n       <path id=\"m63c970ac0d\" d=\"M 0 0 \nL 0 3.5 \n\" style=\"stroke: #000000; stroke-width: 0.8\"/>\n      </defs>\n      <g>\n       <use xlink:href=\"#m63c970ac0d\" x=\"49.641098\" y=\"173.52\" style=\"stroke: #000000; stroke-width: 0.8\"/>\n      </g>\n     </g>\n     <g id=\"text_1\">\n      <!-- 0 -->\n      <g transform=\"translate(46.459848 188.118438)scale(0.1 -0.1)\">\n       <defs>\n        <path id=\"DejaVuSans-30\" d=\"M 2034 4250 \nQ 1547 4250 1301 3770 \nQ 1056 3291 1056 2328 \nQ 1056 1369 1301 889 \nQ 1547 409 2034 409 \nQ 2525 409 2770 889 \nQ 3016 1369 3016 2328 \nQ 3016 3291 2770 3770 \nQ 2525 4250 2034 4250 \nz\nM 2034 4750 \nQ 2819 4750 3233 4129 \nQ 3647 3509 3647 2328 \nQ 3647 1150 3233 529 \nQ 2819 -91 2034 -91 \nQ 1250 -91 836 529 \nQ 422 1150 422 2328 \nQ 422 3509 836 4129 \nQ 1250 4750 2034 4750 \nz\n\" transform=\"scale(0.015625)\"/>\n       </defs>\n       <use xlink:href=\"#DejaVuSans-30\"/>\n      </g>\n     </g>\n    </g>\n    <g id=\"xtick_2\">\n     <g id=\"line2d_2\">\n      <g>\n       <use xlink:href=\"#m63c970ac0d\" x=\"90.495277\" y=\"173.52\" style=\"stroke: #000000; stroke-width: 0.8\"/>\n      </g>\n     </g>\n     <g id=\"text_2\">\n      <!-- 20 -->\n      <g transform=\"translate(84.132777 188.118438)scale(0.1 -0.1)\">\n       <defs>\n        <path id=\"DejaVuSans-32\" d=\"M 1228 531 \nL 3431 531 \nL 3431 0 \nL 469 0 \nL 469 531 \nQ 828 903 1448 1529 \nQ 2069 2156 2228 2338 \nQ 2531 2678 2651 2914 \nQ 2772 3150 2772 3378 \nQ 2772 3750 2511 3984 \nQ 2250 4219 1831 4219 \nQ 1534 4219 1204 4116 \nQ 875 4013 500 3803 \nL 500 4441 \nQ 881 4594 1212 4672 \nQ 1544 4750 1819 4750 \nQ 2544 4750 2975 4387 \nQ 3406 4025 3406 3419 \nQ 3406 3131 3298 2873 \nQ 3191 2616 2906 2266 \nQ 2828 2175 2409 1742 \nQ 1991 1309 1228 531 \nz\n\" transform=\"scale(0.015625)\"/>\n       </defs>\n       <use xlink:href=\"#DejaVuSans-32\"/>\n       <use xlink:href=\"#DejaVuSans-30\" x=\"63.623047\"/>\n      </g>\n     </g>\n    </g>\n    <g id=\"xtick_3\">\n     <g id=\"line2d_3\">\n      <g>\n       <use xlink:href=\"#m63c970ac0d\" x=\"131.349457\" y=\"173.52\" style=\"stroke: #000000; stroke-width: 0.8\"/>\n      </g>\n     </g>\n     <g id=\"text_3\">\n      <!-- 40 -->\n      <g transform=\"translate(124.986957 188.118438)scale(0.1 -0.1)\">\n       <defs>\n        <path id=\"DejaVuSans-34\" d=\"M 2419 4116 \nL 825 1625 \nL 2419 1625 \nL 2419 4116 \nz\nM 2253 4666 \nL 3047 4666 \nL 3047 1625 \nL 3713 1625 \nL 3713 1100 \nL 3047 1100 \nL 3047 0 \nL 2419 0 \nL 2419 1100 \nL 313 1100 \nL 313 1709 \nL 2253 4666 \nz\n\" transform=\"scale(0.015625)\"/>\n       </defs>\n       <use xlink:href=\"#DejaVuSans-34\"/>\n       <use xlink:href=\"#DejaVuSans-30\" x=\"63.623047\"/>\n      </g>\n     </g>\n    </g>\n    <g id=\"xtick_4\">\n     <g id=\"line2d_4\">\n      <g>\n       <use xlink:href=\"#m63c970ac0d\" x=\"172.203636\" y=\"173.52\" style=\"stroke: #000000; stroke-width: 0.8\"/>\n      </g>\n     </g>\n     <g id=\"text_4\">\n      <!-- 60 -->\n      <g transform=\"translate(165.841136 188.118438)scale(0.1 -0.1)\">\n       <defs>\n        <path id=\"DejaVuSans-36\" d=\"M 2113 2584 \nQ 1688 2584 1439 2293 \nQ 1191 2003 1191 1497 \nQ 1191 994 1439 701 \nQ 1688 409 2113 409 \nQ 2538 409 2786 701 \nQ 3034 994 3034 1497 \nQ 3034 2003 2786 2293 \nQ 2538 2584 2113 2584 \nz\nM 3366 4563 \nL 3366 3988 \nQ 3128 4100 2886 4159 \nQ 2644 4219 2406 4219 \nQ 1781 4219 1451 3797 \nQ 1122 3375 1075 2522 \nQ 1259 2794 1537 2939 \nQ 1816 3084 2150 3084 \nQ 2853 3084 3261 2657 \nQ 3669 2231 3669 1497 \nQ 3669 778 3244 343 \nQ 2819 -91 2113 -91 \nQ 1303 -91 875 529 \nQ 447 1150 447 2328 \nQ 447 3434 972 4092 \nQ 1497 4750 2381 4750 \nQ 2619 4750 2861 4703 \nQ 3103 4656 3366 4563 \nz\n\" transform=\"scale(0.015625)\"/>\n       </defs>\n       <use xlink:href=\"#DejaVuSans-36\"/>\n       <use xlink:href=\"#DejaVuSans-30\" x=\"63.623047\"/>\n      </g>\n     </g>\n    </g>\n    <g id=\"xtick_5\">\n     <g id=\"line2d_5\">\n      <g>\n       <use xlink:href=\"#m63c970ac0d\" x=\"213.057815\" y=\"173.52\" style=\"stroke: #000000; stroke-width: 0.8\"/>\n      </g>\n     </g>\n     <g id=\"text_5\">\n      <!-- 80 -->\n      <g transform=\"translate(206.695315 188.118438)scale(0.1 -0.1)\">\n       <defs>\n        <path id=\"DejaVuSans-38\" d=\"M 2034 2216 \nQ 1584 2216 1326 1975 \nQ 1069 1734 1069 1313 \nQ 1069 891 1326 650 \nQ 1584 409 2034 409 \nQ 2484 409 2743 651 \nQ 3003 894 3003 1313 \nQ 3003 1734 2745 1975 \nQ 2488 2216 2034 2216 \nz\nM 1403 2484 \nQ 997 2584 770 2862 \nQ 544 3141 544 3541 \nQ 544 4100 942 4425 \nQ 1341 4750 2034 4750 \nQ 2731 4750 3128 4425 \nQ 3525 4100 3525 3541 \nQ 3525 3141 3298 2862 \nQ 3072 2584 2669 2484 \nQ 3125 2378 3379 2068 \nQ 3634 1759 3634 1313 \nQ 3634 634 3220 271 \nQ 2806 -91 2034 -91 \nQ 1263 -91 848 271 \nQ 434 634 434 1313 \nQ 434 1759 690 2068 \nQ 947 2378 1403 2484 \nz\nM 1172 3481 \nQ 1172 3119 1398 2916 \nQ 1625 2713 2034 2713 \nQ 2441 2713 2670 2916 \nQ 2900 3119 2900 3481 \nQ 2900 3844 2670 4047 \nQ 2441 4250 2034 4250 \nQ 1625 4250 1398 4047 \nQ 1172 3844 1172 3481 \nz\n\" transform=\"scale(0.015625)\"/>\n       </defs>\n       <use xlink:href=\"#DejaVuSans-38\"/>\n       <use xlink:href=\"#DejaVuSans-30\" x=\"63.623047\"/>\n      </g>\n     </g>\n    </g>\n    <g id=\"xtick_6\">\n     <g id=\"line2d_6\">\n      <g>\n       <use xlink:href=\"#m63c970ac0d\" x=\"253.911995\" y=\"173.52\" style=\"stroke: #000000; stroke-width: 0.8\"/>\n      </g>\n     </g>\n     <g id=\"text_6\">\n      <!-- 100 -->\n      <g transform=\"translate(244.368245 188.118438)scale(0.1 -0.1)\">\n       <defs>\n        <path id=\"DejaVuSans-31\" d=\"M 794 531 \nL 1825 531 \nL 1825 4091 \nL 703 3866 \nL 703 4441 \nL 1819 4666 \nL 2450 4666 \nL 2450 531 \nL 3481 531 \nL 3481 0 \nL 794 0 \nL 794 531 \nz\n\" transform=\"scale(0.015625)\"/>\n       </defs>\n       <use xlink:href=\"#DejaVuSans-31\"/>\n       <use xlink:href=\"#DejaVuSans-30\" x=\"63.623047\"/>\n       <use xlink:href=\"#DejaVuSans-30\" x=\"127.246094\"/>\n      </g>\n     </g>\n    </g>\n    <g id=\"xtick_7\">\n     <g id=\"line2d_7\">\n      <g>\n       <use xlink:href=\"#m63c970ac0d\" x=\"294.766174\" y=\"173.52\" style=\"stroke: #000000; stroke-width: 0.8\"/>\n      </g>\n     </g>\n     <g id=\"text_7\">\n      <!-- 120 -->\n      <g transform=\"translate(285.222424 188.118438)scale(0.1 -0.1)\">\n       <use xlink:href=\"#DejaVuSans-31\"/>\n       <use xlink:href=\"#DejaVuSans-32\" x=\"63.623047\"/>\n       <use xlink:href=\"#DejaVuSans-30\" x=\"127.246094\"/>\n      </g>\n     </g>\n    </g>\n    <g id=\"xtick_8\">\n     <g id=\"line2d_8\">\n      <g>\n       <use xlink:href=\"#m63c970ac0d\" x=\"335.620353\" y=\"173.52\" style=\"stroke: #000000; stroke-width: 0.8\"/>\n      </g>\n     </g>\n     <g id=\"text_8\">\n      <!-- 140 -->\n      <g transform=\"translate(326.076603 188.118438)scale(0.1 -0.1)\">\n       <use xlink:href=\"#DejaVuSans-31\"/>\n       <use xlink:href=\"#DejaVuSans-34\" x=\"63.623047\"/>\n       <use xlink:href=\"#DejaVuSans-30\" x=\"127.246094\"/>\n      </g>\n     </g>\n    </g>\n   </g>\n   <g id=\"matplotlib.axis_2\">\n    <g id=\"ytick_1\">\n     <g id=\"line2d_9\">\n      <defs>\n       <path id=\"md290dc4bb6\" d=\"M 0 0 \nL -3.5 0 \n\" style=\"stroke: #000000; stroke-width: 0.8\"/>\n      </defs>\n      <g>\n       <use xlink:href=\"#md290dc4bb6\" x=\"36.465625\" y=\"165.96\" style=\"stroke: #000000; stroke-width: 0.8\"/>\n      </g>\n     </g>\n     <g id=\"text_9\">\n      <!-- 0.00 -->\n      <g transform=\"translate(7.2 169.759219)scale(0.1 -0.1)\">\n       <defs>\n        <path id=\"DejaVuSans-2e\" d=\"M 684 794 \nL 1344 794 \nL 1344 0 \nL 684 0 \nL 684 794 \nz\n\" transform=\"scale(0.015625)\"/>\n       </defs>\n       <use xlink:href=\"#DejaVuSans-30\"/>\n       <use xlink:href=\"#DejaVuSans-2e\" x=\"63.623047\"/>\n       <use xlink:href=\"#DejaVuSans-30\" x=\"95.410156\"/>\n       <use xlink:href=\"#DejaVuSans-30\" x=\"159.033203\"/>\n      </g>\n     </g>\n    </g>\n    <g id=\"ytick_2\">\n     <g id=\"line2d_10\">\n      <g>\n       <use xlink:href=\"#md290dc4bb6\" x=\"36.465625\" y=\"136.217647\" style=\"stroke: #000000; stroke-width: 0.8\"/>\n      </g>\n     </g>\n     <g id=\"text_10\">\n      <!-- 0.05 -->\n      <g transform=\"translate(7.2 140.016866)scale(0.1 -0.1)\">\n       <defs>\n        <path id=\"DejaVuSans-35\" d=\"M 691 4666 \nL 3169 4666 \nL 3169 4134 \nL 1269 4134 \nL 1269 2991 \nQ 1406 3038 1543 3061 \nQ 1681 3084 1819 3084 \nQ 2600 3084 3056 2656 \nQ 3513 2228 3513 1497 \nQ 3513 744 3044 326 \nQ 2575 -91 1722 -91 \nQ 1428 -91 1123 -41 \nQ 819 9 494 109 \nL 494 744 \nQ 775 591 1075 516 \nQ 1375 441 1709 441 \nQ 2250 441 2565 725 \nQ 2881 1009 2881 1497 \nQ 2881 1984 2565 2268 \nQ 2250 2553 1709 2553 \nQ 1456 2553 1204 2497 \nQ 953 2441 691 2322 \nL 691 4666 \nz\n\" transform=\"scale(0.015625)\"/>\n       </defs>\n       <use xlink:href=\"#DejaVuSans-30\"/>\n       <use xlink:href=\"#DejaVuSans-2e\" x=\"63.623047\"/>\n       <use xlink:href=\"#DejaVuSans-30\" x=\"95.410156\"/>\n       <use xlink:href=\"#DejaVuSans-35\" x=\"159.033203\"/>\n      </g>\n     </g>\n    </g>\n    <g id=\"ytick_3\">\n     <g id=\"line2d_11\">\n      <g>\n       <use xlink:href=\"#md290dc4bb6\" x=\"36.465625\" y=\"106.475294\" style=\"stroke: #000000; stroke-width: 0.8\"/>\n      </g>\n     </g>\n     <g id=\"text_11\">\n      <!-- 0.10 -->\n      <g transform=\"translate(7.2 110.274513)scale(0.1 -0.1)\">\n       <use xlink:href=\"#DejaVuSans-30\"/>\n       <use xlink:href=\"#DejaVuSans-2e\" x=\"63.623047\"/>\n       <use xlink:href=\"#DejaVuSans-31\" x=\"95.410156\"/>\n       <use xlink:href=\"#DejaVuSans-30\" x=\"159.033203\"/>\n      </g>\n     </g>\n    </g>\n    <g id=\"ytick_4\">\n     <g id=\"line2d_12\">\n      <g>\n       <use xlink:href=\"#md290dc4bb6\" x=\"36.465625\" y=\"76.732941\" style=\"stroke: #000000; stroke-width: 0.8\"/>\n      </g>\n     </g>\n     <g id=\"text_12\">\n      <!-- 0.15 -->\n      <g transform=\"translate(7.2 80.53216)scale(0.1 -0.1)\">\n       <use xlink:href=\"#DejaVuSans-30\"/>\n       <use xlink:href=\"#DejaVuSans-2e\" x=\"63.623047\"/>\n       <use xlink:href=\"#DejaVuSans-31\" x=\"95.410156\"/>\n       <use xlink:href=\"#DejaVuSans-35\" x=\"159.033203\"/>\n      </g>\n     </g>\n    </g>\n    <g id=\"ytick_5\">\n     <g id=\"line2d_13\">\n      <g>\n       <use xlink:href=\"#md290dc4bb6\" x=\"36.465625\" y=\"46.990588\" style=\"stroke: #000000; stroke-width: 0.8\"/>\n      </g>\n     </g>\n     <g id=\"text_13\">\n      <!-- 0.20 -->\n      <g transform=\"translate(7.2 50.789807)scale(0.1 -0.1)\">\n       <use xlink:href=\"#DejaVuSans-30\"/>\n       <use xlink:href=\"#DejaVuSans-2e\" x=\"63.623047\"/>\n       <use xlink:href=\"#DejaVuSans-32\" x=\"95.410156\"/>\n       <use xlink:href=\"#DejaVuSans-30\" x=\"159.033203\"/>\n      </g>\n     </g>\n    </g>\n    <g id=\"ytick_6\">\n     <g id=\"line2d_14\">\n      <g>\n       <use xlink:href=\"#md290dc4bb6\" x=\"36.465625\" y=\"17.248236\" style=\"stroke: #000000; stroke-width: 0.8\"/>\n      </g>\n     </g>\n     <g id=\"text_14\">\n      <!-- 0.25 -->\n      <g transform=\"translate(7.2 21.047454)scale(0.1 -0.1)\">\n       <use xlink:href=\"#DejaVuSans-30\"/>\n       <use xlink:href=\"#DejaVuSans-2e\" x=\"63.623047\"/>\n       <use xlink:href=\"#DejaVuSans-32\" x=\"95.410156\"/>\n       <use xlink:href=\"#DejaVuSans-35\" x=\"159.033203\"/>\n      </g>\n     </g>\n    </g>\n   </g>\n   <g id=\"line2d_15\">\n    <path d=\"M 51.683807 33.194224 \nL 57.811934 33.449878 \nL 61.897352 33.798126 \nL 65.98277 34.421172 \nL 68.025479 34.896315 \nL 70.068188 35.528324 \nL 72.110897 36.36622 \nL 74.153605 37.472235 \nL 76.196314 38.923785 \nL 78.239023 40.81452 \nL 80.281732 43.253337 \nL 82.324441 46.359809 \nL 84.36715 50.254165 \nL 86.409859 55.040296 \nL 88.452568 60.781821 \nL 90.495277 67.474444 \nL 92.537986 75.022092 \nL 96.623404 91.805955 \nL 100.708822 108.75358 \nL 102.751531 116.519494 \nL 104.79424 123.534157 \nL 106.836949 129.703632 \nL 108.879658 135.015463 \nL 110.922367 139.515858 \nL 112.965076 143.285598 \nL 115.007785 146.420203 \nL 117.050494 149.016235 \nL 119.093203 151.163271 \nL 121.135912 152.940111 \nL 123.178621 154.413741 \nL 125.22133 155.639833 \nL 127.264039 156.66399 \nL 129.306748 157.523236 \nL 133.392166 158.860837 \nL 137.477584 159.828885 \nL 141.563001 160.542336 \nL 147.691128 161.293862 \nL 153.819255 161.797018 \nL 161.990091 162.233238 \nL 172.203636 162.558595 \nL 188.545308 162.821367 \nL 215.100524 162.974696 \nL 276.381793 163.031416 \nL 356.047443 163.034703 \nL 356.047443 163.034703 \n\" clip-path=\"url(#p6ab15fe2b9)\" style=\"fill: none; stroke: #1f77b4; stroke-width: 1.5; stroke-linecap: square\"/>\n   </g>\n   <g id=\"line2d_16\">\n    <path d=\"M 51.683807 165.57153 \nL 55.769225 165.260037 \nL 59.854643 164.700248 \nL 61.897352 164.271179 \nL 63.940061 163.697527 \nL 65.98277 162.931805 \nL 68.025479 161.911901 \nL 70.068188 160.557332 \nL 72.110897 158.765137 \nL 74.153605 156.405911 \nL 76.196314 153.320966 \nL 78.239023 149.322384 \nL 80.281732 144.198726 \nL 82.324441 137.730175 \nL 84.36715 129.717329 \nL 86.409859 120.026497 \nL 88.452568 108.649709 \nL 90.495277 95.768919 \nL 96.623404 53.424231 \nL 98.666113 40.730077 \nL 100.708822 30.110824 \nL 102.751531 22.118993 \nL 104.79424 17.011736 \nL 106.836949 14.76 \nL 108.879658 15.111994 \nL 110.922367 17.67885 \nL 112.965076 22.015078 \nL 115.007785 27.679102 \nL 117.050494 34.270721 \nL 121.135912 48.937528 \nL 127.264039 71.353506 \nL 131.349457 85.123418 \nL 133.392166 91.481326 \nL 135.434875 97.458848 \nL 137.477584 103.05043 \nL 139.520292 108.259354 \nL 141.563001 113.095175 \nL 143.60571 117.571772 \nL 145.648419 121.705855 \nL 147.691128 125.515852 \nL 149.733837 129.021078 \nL 151.776546 132.24112 \nL 153.819255 135.195397 \nL 155.861964 137.902847 \nL 157.904673 140.38171 \nL 159.947382 142.649386 \nL 161.990091 144.722347 \nL 164.0328 146.616095 \nL 166.075509 148.345144 \nL 170.160927 151.36233 \nL 174.246345 153.870924 \nL 178.331763 155.95389 \nL 182.417181 157.681617 \nL 186.502599 159.113479 \nL 190.588017 160.299333 \nL 194.673435 161.280906 \nL 200.801562 162.444805 \nL 206.929688 163.320053 \nL 213.057815 163.977854 \nL 221.228651 164.607706 \nL 231.442196 165.121775 \nL 243.69845 165.487949 \nL 260.040122 165.740526 \nL 286.595338 165.896791 \nL 345.833898 165.956067 \nL 356.047443 165.957564 \nL 356.047443 165.957564 \n\" clip-path=\"url(#p6ab15fe2b9)\" style=\"fill: none; stroke: #ff7f0e; stroke-width: 1.5; stroke-linecap: square\"/>\n   </g>\n   <g id=\"line2d_17\">\n    <path d=\"M 51.683807 165.96 \nL 65.98277 165.818605 \nL 72.110897 165.591764 \nL 76.196314 165.288318 \nL 80.281732 164.760609 \nL 82.324441 164.370521 \nL 84.36715 163.867113 \nL 86.409859 163.224997 \nL 88.452568 162.417589 \nL 90.495277 161.419589 \nL 92.537986 160.210371 \nL 94.580695 158.77779 \nL 96.623404 157.12153 \nL 98.666113 155.254942 \nL 102.751531 151.007899 \nL 108.879658 143.979628 \nL 112.965076 139.338124 \nL 117.050494 135.005862 \nL 121.135912 131.102261 \nL 125.22133 127.669345 \nL 129.306748 124.700635 \nL 133.392166 122.163344 \nL 137.477584 120.012826 \nL 141.563001 118.201127 \nL 145.648419 116.681668 \nL 149.733837 115.411567 \nL 153.819255 114.352605 \nL 157.904673 113.471414 \nL 164.0328 112.421293 \nL 170.160927 111.627987 \nL 178.331763 110.865207 \nL 186.502599 110.342824 \nL 196.716144 109.915613 \nL 211.015106 109.57496 \nL 231.442196 109.354731 \nL 266.168249 109.244374 \nL 356.047443 109.217803 \nL 356.047443 109.217803 \n\" clip-path=\"url(#p6ab15fe2b9)\" style=\"fill: none; stroke: #2ca02c; stroke-width: 1.5; stroke-linecap: square\"/>\n   </g>\n   <g id=\"line2d_18\">\n    <path d=\"M 51.683807 165.96 \nL 65.98277 165.818605 \nL 72.110897 165.591764 \nL 76.196314 165.288318 \nL 80.281732 164.760609 \nL 82.324441 164.370521 \nL 84.36715 163.867113 \nL 86.409859 163.224997 \nL 88.452568 162.417589 \nL 90.495277 161.419589 \nL 92.537986 160.210371 \nL 94.580695 158.77779 \nL 96.623404 157.12153 \nL 98.666113 155.254942 \nL 102.751531 151.007899 \nL 108.879658 143.979628 \nL 112.965076 139.338124 \nL 117.050494 135.005862 \nL 121.135912 131.102261 \nL 125.22133 127.669345 \nL 129.306748 124.700635 \nL 133.392166 122.163344 \nL 137.477584 120.012826 \nL 141.563001 118.201127 \nL 145.648419 116.681668 \nL 149.733837 115.411567 \nL 153.819255 114.352605 \nL 157.904673 113.471414 \nL 164.0328 112.421293 \nL 170.160927 111.627987 \nL 178.331763 110.865207 \nL 186.502599 110.342824 \nL 196.716144 109.915613 \nL 211.015106 109.57496 \nL 231.442196 109.354731 \nL 266.168249 109.244374 \nL 356.047443 109.217803 \nL 356.047443 109.217803 \n\" clip-path=\"url(#p6ab15fe2b9)\" style=\"fill: none; stroke: #d62728; stroke-width: 1.5; stroke-linecap: square\"/>\n   </g>\n   <g id=\"line2d_19\">\n    <path d=\"M 51.683807 115.575597 \nL 86.409859 115.688697 \nL 96.623404 115.94109 \nL 110.922367 116.581641 \nL 125.22133 117.159011 \nL 139.520292 117.514715 \nL 159.947382 117.761972 \nL 192.630726 117.887094 \nL 284.552629 117.921574 \nL 356.047443 117.922028 \nL 356.047443 117.922028 \n\" clip-path=\"url(#p6ab15fe2b9)\" style=\"fill: none; stroke: #9467bd; stroke-width: 1.5; stroke-linecap: square\"/>\n   </g>\n   <g id=\"patch_3\">\n    <path d=\"M 36.465625 173.52 \nL 36.465625 7.2 \n\" style=\"fill: none; stroke: #000000; stroke-width: 0.8; stroke-linejoin: miter; stroke-linecap: square\"/>\n   </g>\n   <g id=\"patch_4\">\n    <path d=\"M 371.265625 173.52 \nL 371.265625 7.2 \n\" style=\"fill: none; stroke: #000000; stroke-width: 0.8; stroke-linejoin: miter; stroke-linecap: square\"/>\n   </g>\n   <g id=\"patch_5\">\n    <path d=\"M 36.465625 173.52 \nL 371.265625 173.52 \n\" style=\"fill: none; stroke: #000000; stroke-width: 0.8; stroke-linejoin: miter; stroke-linecap: square\"/>\n   </g>\n   <g id=\"patch_6\">\n    <path d=\"M 36.465625 7.2 \nL 371.265625 7.2 \n\" style=\"fill: none; stroke: #000000; stroke-width: 0.8; stroke-linejoin: miter; stroke-linecap: square\"/>\n   </g>\n   <g id=\"legend_1\">\n    <g id=\"patch_7\">\n     <path d=\"M 324.565625 88.590625 \nL 364.265625 88.590625 \nQ 366.265625 88.590625 366.265625 86.590625 \nL 366.265625 14.2 \nQ 366.265625 12.2 364.265625 12.2 \nL 324.565625 12.2 \nQ 322.565625 12.2 322.565625 14.2 \nL 322.565625 86.590625 \nQ 322.565625 88.590625 324.565625 88.590625 \nz\n\" style=\"fill: #ffffff; opacity: 0.8; stroke: #cccccc; stroke-linejoin: miter\"/>\n    </g>\n    <g id=\"line2d_20\">\n     <path d=\"M 326.565625 20.298438 \nL 336.565625 20.298438 \nL 346.565625 20.298438 \n\" style=\"fill: none; stroke: #1f77b4; stroke-width: 1.5; stroke-linecap: square\"/>\n    </g>\n    <g id=\"text_15\">\n     <!-- S -->\n     <g transform=\"translate(354.565625 23.798438)scale(0.1 -0.1)\">\n      <defs>\n       <path id=\"DejaVuSans-53\" d=\"M 3425 4513 \nL 3425 3897 \nQ 3066 4069 2747 4153 \nQ 2428 4238 2131 4238 \nQ 1616 4238 1336 4038 \nQ 1056 3838 1056 3469 \nQ 1056 3159 1242 3001 \nQ 1428 2844 1947 2747 \nL 2328 2669 \nQ 3034 2534 3370 2195 \nQ 3706 1856 3706 1288 \nQ 3706 609 3251 259 \nQ 2797 -91 1919 -91 \nQ 1588 -91 1214 -16 \nQ 841 59 441 206 \nL 441 856 \nQ 825 641 1194 531 \nQ 1563 422 1919 422 \nQ 2459 422 2753 634 \nQ 3047 847 3047 1241 \nQ 3047 1584 2836 1778 \nQ 2625 1972 2144 2069 \nL 1759 2144 \nQ 1053 2284 737 2584 \nQ 422 2884 422 3419 \nQ 422 4038 858 4394 \nQ 1294 4750 2059 4750 \nQ 2388 4750 2728 4690 \nQ 3069 4631 3425 4513 \nz\n\" transform=\"scale(0.015625)\"/>\n      </defs>\n      <use xlink:href=\"#DejaVuSans-53\"/>\n     </g>\n    </g>\n    <g id=\"line2d_21\">\n     <path d=\"M 326.565625 34.976563 \nL 336.565625 34.976563 \nL 346.565625 34.976563 \n\" style=\"fill: none; stroke: #ff7f0e; stroke-width: 1.5; stroke-linecap: square\"/>\n    </g>\n    <g id=\"text_16\">\n     <!-- I -->\n     <g transform=\"translate(354.565625 38.476563)scale(0.1 -0.1)\">\n      <defs>\n       <path id=\"DejaVuSans-49\" d=\"M 628 4666 \nL 1259 4666 \nL 1259 0 \nL 628 0 \nL 628 4666 \nz\n\" transform=\"scale(0.015625)\"/>\n      </defs>\n      <use xlink:href=\"#DejaVuSans-49\"/>\n     </g>\n    </g>\n    <g id=\"line2d_22\">\n     <path d=\"M 326.565625 49.654688 \nL 336.565625 49.654688 \nL 346.565625 49.654688 \n\" style=\"fill: none; stroke: #2ca02c; stroke-width: 1.5; stroke-linecap: square\"/>\n    </g>\n    <g id=\"text_17\">\n     <!-- R -->\n     <g transform=\"translate(354.565625 53.154688)scale(0.1 -0.1)\">\n      <defs>\n       <path id=\"DejaVuSans-52\" d=\"M 2841 2188 \nQ 3044 2119 3236 1894 \nQ 3428 1669 3622 1275 \nL 4263 0 \nL 3584 0 \nL 2988 1197 \nQ 2756 1666 2539 1819 \nQ 2322 1972 1947 1972 \nL 1259 1972 \nL 1259 0 \nL 628 0 \nL 628 4666 \nL 2053 4666 \nQ 2853 4666 3247 4331 \nQ 3641 3997 3641 3322 \nQ 3641 2881 3436 2590 \nQ 3231 2300 2841 2188 \nz\nM 1259 4147 \nL 1259 2491 \nL 2053 2491 \nQ 2509 2491 2742 2702 \nQ 2975 2913 2975 3322 \nQ 2975 3731 2742 3939 \nQ 2509 4147 2053 4147 \nL 1259 4147 \nz\n\" transform=\"scale(0.015625)\"/>\n      </defs>\n      <use xlink:href=\"#DejaVuSans-52\"/>\n     </g>\n    </g>\n    <g id=\"line2d_23\">\n     <path d=\"M 326.565625 64.332813 \nL 336.565625 64.332813 \nL 346.565625 64.332813 \n\" style=\"fill: none; stroke: #d62728; stroke-width: 1.5; stroke-linecap: square\"/>\n    </g>\n    <g id=\"text_18\">\n     <!-- D -->\n     <g transform=\"translate(354.565625 67.832813)scale(0.1 -0.1)\">\n      <defs>\n       <path id=\"DejaVuSans-44\" d=\"M 1259 4147 \nL 1259 519 \nL 2022 519 \nQ 2988 519 3436 956 \nQ 3884 1394 3884 2338 \nQ 3884 3275 3436 3711 \nQ 2988 4147 2022 4147 \nL 1259 4147 \nz\nM 628 4666 \nL 1925 4666 \nQ 3281 4666 3915 4102 \nQ 4550 3538 4550 2338 \nQ 4550 1131 3912 565 \nQ 3275 0 1925 0 \nL 628 0 \nL 628 4666 \nz\n\" transform=\"scale(0.015625)\"/>\n      </defs>\n      <use xlink:href=\"#DejaVuSans-44\"/>\n     </g>\n    </g>\n    <g id=\"line2d_24\">\n     <path d=\"M 326.565625 79.010938 \nL 336.565625 79.010938 \nL 346.565625 79.010938 \n\" style=\"fill: none; stroke: #9467bd; stroke-width: 1.5; stroke-linecap: square\"/>\n    </g>\n    <g id=\"text_19\">\n     <!-- N -->\n     <g transform=\"translate(354.565625 82.510938)scale(0.1 -0.1)\">\n      <defs>\n       <path id=\"DejaVuSans-4e\" d=\"M 628 4666 \nL 1478 4666 \nL 3547 763 \nL 3547 4666 \nL 4159 4666 \nL 4159 0 \nL 3309 0 \nL 1241 3903 \nL 1241 0 \nL 628 0 \nL 628 4666 \nz\n\" transform=\"scale(0.015625)\"/>\n      </defs>\n      <use xlink:href=\"#DejaVuSans-4e\"/>\n     </g>\n    </g>\n   </g>\n  </g>\n </g>\n <defs>\n  <clipPath id=\"p6ab15fe2b9\">\n   <rect x=\"36.465625\" y=\"7.2\" width=\"334.8\" height=\"166.32\"/>\n  </clipPath>\n </defs>\n</svg>\n"
     },
     "metadata": {},
     "output_type": "display_data"
    }
   ],
   "source": [
    "woplot(simulation_normalized,t)"
   ],
   "metadata": {
    "collapsed": false
   }
  },
  {
   "cell_type": "code",
   "execution_count": 207,
   "outputs": [
    {
     "data": {
      "text/plain": "<Figure size 600x300 with 1 Axes>",
      "image/svg+xml": "<?xml version=\"1.0\" encoding=\"utf-8\" standalone=\"no\"?>\n<!DOCTYPE svg PUBLIC \"-//W3C//DTD SVG 1.1//EN\"\n  \"http://www.w3.org/Graphics/SVG/1.1/DTD/svg11.dtd\">\n<svg xmlns:xlink=\"http://www.w3.org/1999/xlink\" width=\"381.65pt\" height=\"197.398125pt\" viewBox=\"0 0 381.65 197.398125\" xmlns=\"http://www.w3.org/2000/svg\" version=\"1.1\">\n <metadata>\n  <rdf:RDF xmlns:dc=\"http://purl.org/dc/elements/1.1/\" xmlns:cc=\"http://creativecommons.org/ns#\" xmlns:rdf=\"http://www.w3.org/1999/02/22-rdf-syntax-ns#\">\n   <cc:Work>\n    <dc:type rdf:resource=\"http://purl.org/dc/dcmitype/StillImage\"/>\n    <dc:date>2023-04-17T23:47:30.281826</dc:date>\n    <dc:format>image/svg+xml</dc:format>\n    <dc:creator>\n     <cc:Agent>\n      <dc:title>Matplotlib v3.5.1, https://matplotlib.org/</dc:title>\n     </cc:Agent>\n    </dc:creator>\n   </cc:Work>\n  </rdf:RDF>\n </metadata>\n <defs>\n  <style type=\"text/css\">*{stroke-linejoin: round; stroke-linecap: butt}</style>\n </defs>\n <g id=\"figure_1\">\n  <g id=\"patch_1\">\n   <path d=\"M -0 197.398125 \nL 381.65 197.398125 \nL 381.65 0 \nL -0 0 \nz\n\" style=\"fill: #ffffff\"/>\n  </g>\n  <g id=\"axes_1\">\n   <g id=\"patch_2\">\n    <path d=\"M 39.65 173.52 \nL 374.45 173.52 \nL 374.45 7.2 \nL 39.65 7.2 \nz\n\" style=\"fill: #ffffff\"/>\n   </g>\n   <g id=\"matplotlib.axis_1\">\n    <g id=\"xtick_1\">\n     <g id=\"line2d_1\">\n      <defs>\n       <path id=\"mab6274b3b9\" d=\"M 0 0 \nL 0 3.5 \n\" style=\"stroke: #000000; stroke-width: 0.8\"/>\n      </defs>\n      <g>\n       <use xlink:href=\"#mab6274b3b9\" x=\"52.825473\" y=\"173.52\" style=\"stroke: #000000; stroke-width: 0.8\"/>\n      </g>\n     </g>\n     <g id=\"text_1\">\n      <!-- 0 -->\n      <g transform=\"translate(49.644223 188.118438)scale(0.1 -0.1)\">\n       <defs>\n        <path id=\"DejaVuSans-30\" d=\"M 2034 4250 \nQ 1547 4250 1301 3770 \nQ 1056 3291 1056 2328 \nQ 1056 1369 1301 889 \nQ 1547 409 2034 409 \nQ 2525 409 2770 889 \nQ 3016 1369 3016 2328 \nQ 3016 3291 2770 3770 \nQ 2525 4250 2034 4250 \nz\nM 2034 4750 \nQ 2819 4750 3233 4129 \nQ 3647 3509 3647 2328 \nQ 3647 1150 3233 529 \nQ 2819 -91 2034 -91 \nQ 1250 -91 836 529 \nQ 422 1150 422 2328 \nQ 422 3509 836 4129 \nQ 1250 4750 2034 4750 \nz\n\" transform=\"scale(0.015625)\"/>\n       </defs>\n       <use xlink:href=\"#DejaVuSans-30\"/>\n      </g>\n     </g>\n    </g>\n    <g id=\"xtick_2\">\n     <g id=\"line2d_2\">\n      <g>\n       <use xlink:href=\"#mab6274b3b9\" x=\"93.679652\" y=\"173.52\" style=\"stroke: #000000; stroke-width: 0.8\"/>\n      </g>\n     </g>\n     <g id=\"text_2\">\n      <!-- 20 -->\n      <g transform=\"translate(87.317152 188.118438)scale(0.1 -0.1)\">\n       <defs>\n        <path id=\"DejaVuSans-32\" d=\"M 1228 531 \nL 3431 531 \nL 3431 0 \nL 469 0 \nL 469 531 \nQ 828 903 1448 1529 \nQ 2069 2156 2228 2338 \nQ 2531 2678 2651 2914 \nQ 2772 3150 2772 3378 \nQ 2772 3750 2511 3984 \nQ 2250 4219 1831 4219 \nQ 1534 4219 1204 4116 \nQ 875 4013 500 3803 \nL 500 4441 \nQ 881 4594 1212 4672 \nQ 1544 4750 1819 4750 \nQ 2544 4750 2975 4387 \nQ 3406 4025 3406 3419 \nQ 3406 3131 3298 2873 \nQ 3191 2616 2906 2266 \nQ 2828 2175 2409 1742 \nQ 1991 1309 1228 531 \nz\n\" transform=\"scale(0.015625)\"/>\n       </defs>\n       <use xlink:href=\"#DejaVuSans-32\"/>\n       <use xlink:href=\"#DejaVuSans-30\" x=\"63.623047\"/>\n      </g>\n     </g>\n    </g>\n    <g id=\"xtick_3\">\n     <g id=\"line2d_3\">\n      <g>\n       <use xlink:href=\"#mab6274b3b9\" x=\"134.533832\" y=\"173.52\" style=\"stroke: #000000; stroke-width: 0.8\"/>\n      </g>\n     </g>\n     <g id=\"text_3\">\n      <!-- 40 -->\n      <g transform=\"translate(128.171332 188.118438)scale(0.1 -0.1)\">\n       <defs>\n        <path id=\"DejaVuSans-34\" d=\"M 2419 4116 \nL 825 1625 \nL 2419 1625 \nL 2419 4116 \nz\nM 2253 4666 \nL 3047 4666 \nL 3047 1625 \nL 3713 1625 \nL 3713 1100 \nL 3047 1100 \nL 3047 0 \nL 2419 0 \nL 2419 1100 \nL 313 1100 \nL 313 1709 \nL 2253 4666 \nz\n\" transform=\"scale(0.015625)\"/>\n       </defs>\n       <use xlink:href=\"#DejaVuSans-34\"/>\n       <use xlink:href=\"#DejaVuSans-30\" x=\"63.623047\"/>\n      </g>\n     </g>\n    </g>\n    <g id=\"xtick_4\">\n     <g id=\"line2d_4\">\n      <g>\n       <use xlink:href=\"#mab6274b3b9\" x=\"175.388011\" y=\"173.52\" style=\"stroke: #000000; stroke-width: 0.8\"/>\n      </g>\n     </g>\n     <g id=\"text_4\">\n      <!-- 60 -->\n      <g transform=\"translate(169.025511 188.118438)scale(0.1 -0.1)\">\n       <defs>\n        <path id=\"DejaVuSans-36\" d=\"M 2113 2584 \nQ 1688 2584 1439 2293 \nQ 1191 2003 1191 1497 \nQ 1191 994 1439 701 \nQ 1688 409 2113 409 \nQ 2538 409 2786 701 \nQ 3034 994 3034 1497 \nQ 3034 2003 2786 2293 \nQ 2538 2584 2113 2584 \nz\nM 3366 4563 \nL 3366 3988 \nQ 3128 4100 2886 4159 \nQ 2644 4219 2406 4219 \nQ 1781 4219 1451 3797 \nQ 1122 3375 1075 2522 \nQ 1259 2794 1537 2939 \nQ 1816 3084 2150 3084 \nQ 2853 3084 3261 2657 \nQ 3669 2231 3669 1497 \nQ 3669 778 3244 343 \nQ 2819 -91 2113 -91 \nQ 1303 -91 875 529 \nQ 447 1150 447 2328 \nQ 447 3434 972 4092 \nQ 1497 4750 2381 4750 \nQ 2619 4750 2861 4703 \nQ 3103 4656 3366 4563 \nz\n\" transform=\"scale(0.015625)\"/>\n       </defs>\n       <use xlink:href=\"#DejaVuSans-36\"/>\n       <use xlink:href=\"#DejaVuSans-30\" x=\"63.623047\"/>\n      </g>\n     </g>\n    </g>\n    <g id=\"xtick_5\">\n     <g id=\"line2d_5\">\n      <g>\n       <use xlink:href=\"#mab6274b3b9\" x=\"216.24219\" y=\"173.52\" style=\"stroke: #000000; stroke-width: 0.8\"/>\n      </g>\n     </g>\n     <g id=\"text_5\">\n      <!-- 80 -->\n      <g transform=\"translate(209.87969 188.118438)scale(0.1 -0.1)\">\n       <defs>\n        <path id=\"DejaVuSans-38\" d=\"M 2034 2216 \nQ 1584 2216 1326 1975 \nQ 1069 1734 1069 1313 \nQ 1069 891 1326 650 \nQ 1584 409 2034 409 \nQ 2484 409 2743 651 \nQ 3003 894 3003 1313 \nQ 3003 1734 2745 1975 \nQ 2488 2216 2034 2216 \nz\nM 1403 2484 \nQ 997 2584 770 2862 \nQ 544 3141 544 3541 \nQ 544 4100 942 4425 \nQ 1341 4750 2034 4750 \nQ 2731 4750 3128 4425 \nQ 3525 4100 3525 3541 \nQ 3525 3141 3298 2862 \nQ 3072 2584 2669 2484 \nQ 3125 2378 3379 2068 \nQ 3634 1759 3634 1313 \nQ 3634 634 3220 271 \nQ 2806 -91 2034 -91 \nQ 1263 -91 848 271 \nQ 434 634 434 1313 \nQ 434 1759 690 2068 \nQ 947 2378 1403 2484 \nz\nM 1172 3481 \nQ 1172 3119 1398 2916 \nQ 1625 2713 2034 2713 \nQ 2441 2713 2670 2916 \nQ 2900 3119 2900 3481 \nQ 2900 3844 2670 4047 \nQ 2441 4250 2034 4250 \nQ 1625 4250 1398 4047 \nQ 1172 3844 1172 3481 \nz\n\" transform=\"scale(0.015625)\"/>\n       </defs>\n       <use xlink:href=\"#DejaVuSans-38\"/>\n       <use xlink:href=\"#DejaVuSans-30\" x=\"63.623047\"/>\n      </g>\n     </g>\n    </g>\n    <g id=\"xtick_6\">\n     <g id=\"line2d_6\">\n      <g>\n       <use xlink:href=\"#mab6274b3b9\" x=\"257.09637\" y=\"173.52\" style=\"stroke: #000000; stroke-width: 0.8\"/>\n      </g>\n     </g>\n     <g id=\"text_6\">\n      <!-- 100 -->\n      <g transform=\"translate(247.55262 188.118438)scale(0.1 -0.1)\">\n       <defs>\n        <path id=\"DejaVuSans-31\" d=\"M 794 531 \nL 1825 531 \nL 1825 4091 \nL 703 3866 \nL 703 4441 \nL 1819 4666 \nL 2450 4666 \nL 2450 531 \nL 3481 531 \nL 3481 0 \nL 794 0 \nL 794 531 \nz\n\" transform=\"scale(0.015625)\"/>\n       </defs>\n       <use xlink:href=\"#DejaVuSans-31\"/>\n       <use xlink:href=\"#DejaVuSans-30\" x=\"63.623047\"/>\n       <use xlink:href=\"#DejaVuSans-30\" x=\"127.246094\"/>\n      </g>\n     </g>\n    </g>\n    <g id=\"xtick_7\">\n     <g id=\"line2d_7\">\n      <g>\n       <use xlink:href=\"#mab6274b3b9\" x=\"297.950549\" y=\"173.52\" style=\"stroke: #000000; stroke-width: 0.8\"/>\n      </g>\n     </g>\n     <g id=\"text_7\">\n      <!-- 120 -->\n      <g transform=\"translate(288.406799 188.118438)scale(0.1 -0.1)\">\n       <use xlink:href=\"#DejaVuSans-31\"/>\n       <use xlink:href=\"#DejaVuSans-32\" x=\"63.623047\"/>\n       <use xlink:href=\"#DejaVuSans-30\" x=\"127.246094\"/>\n      </g>\n     </g>\n    </g>\n    <g id=\"xtick_8\">\n     <g id=\"line2d_8\">\n      <g>\n       <use xlink:href=\"#mab6274b3b9\" x=\"338.804728\" y=\"173.52\" style=\"stroke: #000000; stroke-width: 0.8\"/>\n      </g>\n     </g>\n     <g id=\"text_8\">\n      <!-- 140 -->\n      <g transform=\"translate(329.260978 188.118438)scale(0.1 -0.1)\">\n       <use xlink:href=\"#DejaVuSans-31\"/>\n       <use xlink:href=\"#DejaVuSans-34\" x=\"63.623047\"/>\n       <use xlink:href=\"#DejaVuSans-30\" x=\"127.246094\"/>\n      </g>\n     </g>\n    </g>\n   </g>\n   <g id=\"matplotlib.axis_2\">\n    <g id=\"ytick_1\">\n     <g id=\"line2d_9\">\n      <defs>\n       <path id=\"m2f770724a6\" d=\"M 0 0 \nL -3.5 0 \n\" style=\"stroke: #000000; stroke-width: 0.8\"/>\n      </defs>\n      <g>\n       <use xlink:href=\"#m2f770724a6\" x=\"39.65\" y=\"165.96\" style=\"stroke: #000000; stroke-width: 0.8\"/>\n      </g>\n     </g>\n     <g id=\"text_9\">\n      <!-- 0 -->\n      <g transform=\"translate(26.2875 169.759219)scale(0.1 -0.1)\">\n       <use xlink:href=\"#DejaVuSans-30\"/>\n      </g>\n     </g>\n    </g>\n    <g id=\"ytick_2\">\n     <g id=\"line2d_10\">\n      <g>\n       <use xlink:href=\"#m2f770724a6\" x=\"39.65\" y=\"135.72\" style=\"stroke: #000000; stroke-width: 0.8\"/>\n      </g>\n     </g>\n     <g id=\"text_10\">\n      <!-- 200 -->\n      <g transform=\"translate(13.5625 139.519219)scale(0.1 -0.1)\">\n       <use xlink:href=\"#DejaVuSans-32\"/>\n       <use xlink:href=\"#DejaVuSans-30\" x=\"63.623047\"/>\n       <use xlink:href=\"#DejaVuSans-30\" x=\"127.246094\"/>\n      </g>\n     </g>\n    </g>\n    <g id=\"ytick_3\">\n     <g id=\"line2d_11\">\n      <g>\n       <use xlink:href=\"#m2f770724a6\" x=\"39.65\" y=\"105.48\" style=\"stroke: #000000; stroke-width: 0.8\"/>\n      </g>\n     </g>\n     <g id=\"text_11\">\n      <!-- 400 -->\n      <g transform=\"translate(13.5625 109.279219)scale(0.1 -0.1)\">\n       <use xlink:href=\"#DejaVuSans-34\"/>\n       <use xlink:href=\"#DejaVuSans-30\" x=\"63.623047\"/>\n       <use xlink:href=\"#DejaVuSans-30\" x=\"127.246094\"/>\n      </g>\n     </g>\n    </g>\n    <g id=\"ytick_4\">\n     <g id=\"line2d_12\">\n      <g>\n       <use xlink:href=\"#m2f770724a6\" x=\"39.65\" y=\"75.24\" style=\"stroke: #000000; stroke-width: 0.8\"/>\n      </g>\n     </g>\n     <g id=\"text_12\">\n      <!-- 600 -->\n      <g transform=\"translate(13.5625 79.039219)scale(0.1 -0.1)\">\n       <use xlink:href=\"#DejaVuSans-36\"/>\n       <use xlink:href=\"#DejaVuSans-30\" x=\"63.623047\"/>\n       <use xlink:href=\"#DejaVuSans-30\" x=\"127.246094\"/>\n      </g>\n     </g>\n    </g>\n    <g id=\"ytick_5\">\n     <g id=\"line2d_13\">\n      <g>\n       <use xlink:href=\"#m2f770724a6\" x=\"39.65\" y=\"45\" style=\"stroke: #000000; stroke-width: 0.8\"/>\n      </g>\n     </g>\n     <g id=\"text_13\">\n      <!-- 800 -->\n      <g transform=\"translate(13.5625 48.799219)scale(0.1 -0.1)\">\n       <use xlink:href=\"#DejaVuSans-38\"/>\n       <use xlink:href=\"#DejaVuSans-30\" x=\"63.623047\"/>\n       <use xlink:href=\"#DejaVuSans-30\" x=\"127.246094\"/>\n      </g>\n     </g>\n    </g>\n    <g id=\"ytick_6\">\n     <g id=\"line2d_14\">\n      <g>\n       <use xlink:href=\"#m2f770724a6\" x=\"39.65\" y=\"14.76\" style=\"stroke: #000000; stroke-width: 0.8\"/>\n      </g>\n     </g>\n     <g id=\"text_14\">\n      <!-- 1000 -->\n      <g transform=\"translate(7.2 18.559219)scale(0.1 -0.1)\">\n       <use xlink:href=\"#DejaVuSans-31\"/>\n       <use xlink:href=\"#DejaVuSans-30\" x=\"63.623047\"/>\n       <use xlink:href=\"#DejaVuSans-30\" x=\"127.246094\"/>\n       <use xlink:href=\"#DejaVuSans-30\" x=\"190.869141\"/>\n      </g>\n     </g>\n    </g>\n   </g>\n   <g id=\"line2d_15\">\n    <path d=\"M 54.868182 14.9112 \nL 60.996309 15.202059 \nL 65.081727 15.598264 \nL 69.167145 16.30711 \nL 71.209854 16.847683 \nL 73.252563 17.566726 \nL 75.295272 18.520008 \nL 77.33798 19.778331 \nL 79.380689 21.429772 \nL 81.423398 23.580877 \nL 83.466107 26.355541 \nL 85.508816 29.889803 \nL 87.551525 34.320445 \nL 89.594234 39.765669 \nL 91.636943 46.297854 \nL 93.679652 53.912109 \nL 95.722361 62.499136 \nL 99.807779 81.594286 \nL 103.893197 100.875749 \nL 105.935906 109.711098 \nL 107.978615 117.691743 \nL 110.021324 124.710808 \nL 112.064033 130.754125 \nL 114.106742 135.874265 \nL 116.149451 140.163132 \nL 118.19216 143.7294 \nL 120.234869 146.682929 \nL 122.277578 149.12563 \nL 124.320287 151.147157 \nL 126.362996 152.823719 \nL 128.405705 154.218654 \nL 130.448414 155.383847 \nL 132.491123 156.361419 \nL 134.533832 157.185399 \nL 138.61925 158.476993 \nL 142.704667 159.420423 \nL 146.790085 160.121708 \nL 152.918212 160.867234 \nL 159.046339 161.371102 \nL 167.217175 161.811606 \nL 177.43072 162.142721 \nL 193.772392 162.411959 \nL 220.327608 162.569888 \nL 279.566168 162.628124 \nL 359.231818 162.631864 \nL 359.231818 162.631864 \n\" clip-path=\"url(#pf95993e747)\" style=\"fill: none; stroke: #1f77b4; stroke-width: 1.5; stroke-linecap: square\"/>\n   </g>\n   <g id=\"line2d_16\">\n    <path d=\"M 54.868182 165.8088 \nL 60.996309 165.594441 \nL 65.081727 165.302678 \nL 69.167145 164.781367 \nL 71.209854 164.384401 \nL 73.252563 163.857176 \nL 75.295272 163.159619 \nL 77.33798 162.241362 \nL 79.380689 161.040641 \nL 81.423398 159.484316 \nL 83.466107 157.490088 \nL 85.508816 154.972401 \nL 87.551525 151.853646 \nL 89.594234 148.081785 \nL 91.636943 143.653717 \nL 93.679652 138.640263 \nL 99.807779 122.158884 \nL 101.850488 117.218072 \nL 103.893197 113.084851 \nL 105.935906 109.974275 \nL 107.978615 107.986431 \nL 110.021324 107.110012 \nL 112.064033 107.247014 \nL 114.106742 108.246085 \nL 116.149451 109.933829 \nL 118.19216 112.138378 \nL 120.234869 114.703965 \nL 124.320287 120.412572 \nL 130.448414 129.137308 \nL 134.533832 134.496826 \nL 138.61925 139.298016 \nL 142.704667 143.501783 \nL 146.790085 147.126358 \nL 150.875503 150.218349 \nL 154.960921 152.835954 \nL 159.046339 155.039609 \nL 163.131757 156.887054 \nL 167.217175 158.430975 \nL 171.302593 159.718098 \nL 175.388011 160.789103 \nL 179.473429 161.678949 \nL 185.601556 162.737892 \nL 191.729683 163.536865 \nL 197.85781 164.138805 \nL 206.028646 164.716327 \nL 216.24219 165.18851 \nL 228.498444 165.525294 \nL 246.882825 165.776268 \nL 275.48075 165.911907 \nL 346.975564 165.958316 \nL 359.231818 165.959052 \nL 359.231818 165.959052 \n\" clip-path=\"url(#pf95993e747)\" style=\"fill: none; stroke: #ff7f0e; stroke-width: 1.5; stroke-linecap: square\"/>\n   </g>\n   <g id=\"line2d_17\">\n    <path d=\"M 54.868182 165.96 \nL 65.081727 165.787675 \nL 71.209854 165.472301 \nL 75.295272 165.04607 \nL 79.380689 164.29294 \nL 81.423398 163.726483 \nL 83.466107 162.98321 \nL 85.508816 162.015044 \nL 87.551525 160.765627 \nL 89.594234 159.171949 \nL 91.636943 157.168028 \nL 93.679652 154.691074 \nL 95.722361 151.689895 \nL 97.76507 148.134349 \nL 99.807779 144.023648 \nL 101.850488 139.390931 \nL 103.893197 134.302285 \nL 107.978615 123.142691 \nL 116.149451 99.886703 \nL 120.234869 89.134387 \nL 124.320287 79.445972 \nL 126.362996 75.03877 \nL 128.405705 70.925758 \nL 130.448414 67.101758 \nL 132.491123 63.557665 \nL 134.533832 60.28169 \nL 136.576541 57.260317 \nL 138.61925 54.47904 \nL 140.661959 51.92291 \nL 142.704667 49.576946 \nL 144.747376 47.426424 \nL 146.790085 45.45708 \nL 148.832794 43.655251 \nL 152.918212 40.502967 \nL 157.00363 37.87471 \nL 161.089048 35.687666 \nL 165.174466 33.870551 \nL 169.259884 32.36261 \nL 173.345302 31.112432 \nL 177.43072 30.076746 \nL 181.516138 29.219277 \nL 187.644265 28.202314 \nL 193.772392 27.437412 \nL 201.943228 26.704542 \nL 210.114063 26.204058 \nL 220.327608 25.795586 \nL 234.626571 25.470399 \nL 255.053661 25.260411 \nL 291.822422 25.152911 \nL 359.231818 25.130556 \nL 359.231818 25.130556 \n\" clip-path=\"url(#pf95993e747)\" style=\"fill: none; stroke: #2ca02c; stroke-width: 1.5; stroke-linecap: square\"/>\n   </g>\n   <g id=\"line2d_18\">\n    <path d=\"M 54.868182 165.96 \nL 81.423398 165.848324 \nL 89.594234 165.620597 \nL 95.722361 165.246495 \nL 101.850488 164.631547 \nL 110.021324 163.526628 \nL 122.277578 161.869353 \nL 130.448414 161.017088 \nL 138.61925 160.385952 \nL 148.832794 159.844763 \nL 161.089048 159.446383 \nL 177.43072 159.165837 \nL 201.943228 158.997227 \nL 253.010952 158.925678 \nL 359.231818 158.918528 \nL 359.231818 158.918528 \n\" clip-path=\"url(#pf95993e747)\" style=\"fill: none; stroke: #d62728; stroke-width: 1.5; stroke-linecap: square\"/>\n   </g>\n   <g id=\"line2d_19\">\n    <path d=\"M 54.868182 14.76 \nL 81.423398 14.871676 \nL 89.594234 15.099403 \nL 95.722361 15.473505 \nL 101.850488 16.088453 \nL 110.021324 17.193372 \nL 122.277578 18.850647 \nL 130.448414 19.702912 \nL 138.61925 20.334048 \nL 148.832794 20.875237 \nL 161.089048 21.273617 \nL 177.43072 21.554163 \nL 201.943228 21.722773 \nL 253.010952 21.794322 \nL 359.231818 21.801472 \nL 359.231818 21.801472 \n\" clip-path=\"url(#pf95993e747)\" style=\"fill: none; stroke: #9467bd; stroke-width: 1.5; stroke-linecap: square\"/>\n   </g>\n   <g id=\"patch_3\">\n    <path d=\"M 39.65 173.52 \nL 39.65 7.2 \n\" style=\"fill: none; stroke: #000000; stroke-width: 0.8; stroke-linejoin: miter; stroke-linecap: square\"/>\n   </g>\n   <g id=\"patch_4\">\n    <path d=\"M 374.45 173.52 \nL 374.45 7.2 \n\" style=\"fill: none; stroke: #000000; stroke-width: 0.8; stroke-linejoin: miter; stroke-linecap: square\"/>\n   </g>\n   <g id=\"patch_5\">\n    <path d=\"M 39.65 173.52 \nL 374.45 173.52 \n\" style=\"fill: none; stroke: #000000; stroke-width: 0.8; stroke-linejoin: miter; stroke-linecap: square\"/>\n   </g>\n   <g id=\"patch_6\">\n    <path d=\"M 39.65 7.2 \nL 374.45 7.2 \n\" style=\"fill: none; stroke: #000000; stroke-width: 0.8; stroke-linejoin: miter; stroke-linecap: square\"/>\n   </g>\n   <g id=\"legend_1\">\n    <g id=\"patch_7\">\n     <path d=\"M 327.75 128.555313 \nL 367.45 128.555313 \nQ 369.45 128.555313 369.45 126.555313 \nL 369.45 54.164688 \nQ 369.45 52.164688 367.45 52.164688 \nL 327.75 52.164688 \nQ 325.75 52.164688 325.75 54.164688 \nL 325.75 126.555313 \nQ 325.75 128.555313 327.75 128.555313 \nz\n\" style=\"fill: #ffffff; opacity: 0.8; stroke: #cccccc; stroke-linejoin: miter\"/>\n    </g>\n    <g id=\"line2d_20\">\n     <path d=\"M 329.75 60.263125 \nL 339.75 60.263125 \nL 349.75 60.263125 \n\" style=\"fill: none; stroke: #1f77b4; stroke-width: 1.5; stroke-linecap: square\"/>\n    </g>\n    <g id=\"text_15\">\n     <!-- S -->\n     <g transform=\"translate(357.75 63.763125)scale(0.1 -0.1)\">\n      <defs>\n       <path id=\"DejaVuSans-53\" d=\"M 3425 4513 \nL 3425 3897 \nQ 3066 4069 2747 4153 \nQ 2428 4238 2131 4238 \nQ 1616 4238 1336 4038 \nQ 1056 3838 1056 3469 \nQ 1056 3159 1242 3001 \nQ 1428 2844 1947 2747 \nL 2328 2669 \nQ 3034 2534 3370 2195 \nQ 3706 1856 3706 1288 \nQ 3706 609 3251 259 \nQ 2797 -91 1919 -91 \nQ 1588 -91 1214 -16 \nQ 841 59 441 206 \nL 441 856 \nQ 825 641 1194 531 \nQ 1563 422 1919 422 \nQ 2459 422 2753 634 \nQ 3047 847 3047 1241 \nQ 3047 1584 2836 1778 \nQ 2625 1972 2144 2069 \nL 1759 2144 \nQ 1053 2284 737 2584 \nQ 422 2884 422 3419 \nQ 422 4038 858 4394 \nQ 1294 4750 2059 4750 \nQ 2388 4750 2728 4690 \nQ 3069 4631 3425 4513 \nz\n\" transform=\"scale(0.015625)\"/>\n      </defs>\n      <use xlink:href=\"#DejaVuSans-53\"/>\n     </g>\n    </g>\n    <g id=\"line2d_21\">\n     <path d=\"M 329.75 74.94125 \nL 339.75 74.94125 \nL 349.75 74.94125 \n\" style=\"fill: none; stroke: #ff7f0e; stroke-width: 1.5; stroke-linecap: square\"/>\n    </g>\n    <g id=\"text_16\">\n     <!-- I -->\n     <g transform=\"translate(357.75 78.44125)scale(0.1 -0.1)\">\n      <defs>\n       <path id=\"DejaVuSans-49\" d=\"M 628 4666 \nL 1259 4666 \nL 1259 0 \nL 628 0 \nL 628 4666 \nz\n\" transform=\"scale(0.015625)\"/>\n      </defs>\n      <use xlink:href=\"#DejaVuSans-49\"/>\n     </g>\n    </g>\n    <g id=\"line2d_22\">\n     <path d=\"M 329.75 89.619375 \nL 339.75 89.619375 \nL 349.75 89.619375 \n\" style=\"fill: none; stroke: #2ca02c; stroke-width: 1.5; stroke-linecap: square\"/>\n    </g>\n    <g id=\"text_17\">\n     <!-- R -->\n     <g transform=\"translate(357.75 93.119375)scale(0.1 -0.1)\">\n      <defs>\n       <path id=\"DejaVuSans-52\" d=\"M 2841 2188 \nQ 3044 2119 3236 1894 \nQ 3428 1669 3622 1275 \nL 4263 0 \nL 3584 0 \nL 2988 1197 \nQ 2756 1666 2539 1819 \nQ 2322 1972 1947 1972 \nL 1259 1972 \nL 1259 0 \nL 628 0 \nL 628 4666 \nL 2053 4666 \nQ 2853 4666 3247 4331 \nQ 3641 3997 3641 3322 \nQ 3641 2881 3436 2590 \nQ 3231 2300 2841 2188 \nz\nM 1259 4147 \nL 1259 2491 \nL 2053 2491 \nQ 2509 2491 2742 2702 \nQ 2975 2913 2975 3322 \nQ 2975 3731 2742 3939 \nQ 2509 4147 2053 4147 \nL 1259 4147 \nz\n\" transform=\"scale(0.015625)\"/>\n      </defs>\n      <use xlink:href=\"#DejaVuSans-52\"/>\n     </g>\n    </g>\n    <g id=\"line2d_23\">\n     <path d=\"M 329.75 104.2975 \nL 339.75 104.2975 \nL 349.75 104.2975 \n\" style=\"fill: none; stroke: #d62728; stroke-width: 1.5; stroke-linecap: square\"/>\n    </g>\n    <g id=\"text_18\">\n     <!-- D -->\n     <g transform=\"translate(357.75 107.7975)scale(0.1 -0.1)\">\n      <defs>\n       <path id=\"DejaVuSans-44\" d=\"M 1259 4147 \nL 1259 519 \nL 2022 519 \nQ 2988 519 3436 956 \nQ 3884 1394 3884 2338 \nQ 3884 3275 3436 3711 \nQ 2988 4147 2022 4147 \nL 1259 4147 \nz\nM 628 4666 \nL 1925 4666 \nQ 3281 4666 3915 4102 \nQ 4550 3538 4550 2338 \nQ 4550 1131 3912 565 \nQ 3275 0 1925 0 \nL 628 0 \nL 628 4666 \nz\n\" transform=\"scale(0.015625)\"/>\n      </defs>\n      <use xlink:href=\"#DejaVuSans-44\"/>\n     </g>\n    </g>\n    <g id=\"line2d_24\">\n     <path d=\"M 329.75 118.975625 \nL 339.75 118.975625 \nL 349.75 118.975625 \n\" style=\"fill: none; stroke: #9467bd; stroke-width: 1.5; stroke-linecap: square\"/>\n    </g>\n    <g id=\"text_19\">\n     <!-- N -->\n     <g transform=\"translate(357.75 122.475625)scale(0.1 -0.1)\">\n      <defs>\n       <path id=\"DejaVuSans-4e\" d=\"M 628 4666 \nL 1478 4666 \nL 3547 763 \nL 3547 4666 \nL 4159 4666 \nL 4159 0 \nL 3309 0 \nL 1241 3903 \nL 1241 0 \nL 628 0 \nL 628 4666 \nz\n\" transform=\"scale(0.015625)\"/>\n      </defs>\n      <use xlink:href=\"#DejaVuSans-4e\"/>\n     </g>\n    </g>\n   </g>\n  </g>\n </g>\n <defs>\n  <clipPath id=\"pf95993e747\">\n   <rect x=\"39.65\" y=\"7.2\" width=\"334.8\" height=\"166.32\"/>\n  </clipPath>\n </defs>\n</svg>\n"
     },
     "metadata": {},
     "output_type": "display_data"
    }
   ],
   "source": [
    "woplot(simulation,t)"
   ],
   "metadata": {
    "collapsed": false
   }
  },
  {
   "cell_type": "code",
   "execution_count": 278,
   "outputs": [
    {
     "data": {
      "text/plain": "<Figure size 600x300 with 1 Axes>",
      "image/svg+xml": "<?xml version=\"1.0\" encoding=\"utf-8\" standalone=\"no\"?>\n<!DOCTYPE svg PUBLIC \"-//W3C//DTD SVG 1.1//EN\"\n  \"http://www.w3.org/Graphics/SVG/1.1/DTD/svg11.dtd\">\n<svg xmlns:xlink=\"http://www.w3.org/1999/xlink\" width=\"377.304687pt\" height=\"197.398125pt\" viewBox=\"0 0 377.304687 197.398125\" xmlns=\"http://www.w3.org/2000/svg\" version=\"1.1\">\n <metadata>\n  <rdf:RDF xmlns:dc=\"http://purl.org/dc/elements/1.1/\" xmlns:cc=\"http://creativecommons.org/ns#\" xmlns:rdf=\"http://www.w3.org/1999/02/22-rdf-syntax-ns#\">\n   <cc:Work>\n    <dc:type rdf:resource=\"http://purl.org/dc/dcmitype/StillImage\"/>\n    <dc:date>2023-04-18T00:17:03.394332</dc:date>\n    <dc:format>image/svg+xml</dc:format>\n    <dc:creator>\n     <cc:Agent>\n      <dc:title>Matplotlib v3.5.1, https://matplotlib.org/</dc:title>\n     </cc:Agent>\n    </dc:creator>\n   </cc:Work>\n  </rdf:RDF>\n </metadata>\n <defs>\n  <style type=\"text/css\">*{stroke-linejoin: round; stroke-linecap: butt}</style>\n </defs>\n <g id=\"figure_1\">\n  <g id=\"patch_1\">\n   <path d=\"M 0 197.398125 \nL 377.304687 197.398125 \nL 377.304687 0 \nL 0 0 \nz\n\" style=\"fill: #ffffff\"/>\n  </g>\n  <g id=\"axes_1\">\n   <g id=\"patch_2\">\n    <path d=\"M 35.304688 173.52 \nL 370.104688 173.52 \nL 370.104688 7.2 \nL 35.304688 7.2 \nz\n\" style=\"fill: #ffffff\"/>\n   </g>\n   <g id=\"matplotlib.axis_1\">\n    <g id=\"xtick_1\">\n     <g id=\"line2d_1\">\n      <defs>\n       <path id=\"m442fb90d97\" d=\"M 0 0 \nL 0 3.5 \n\" style=\"stroke: #000000; stroke-width: 0.8\"/>\n      </defs>\n      <g>\n       <use xlink:href=\"#m442fb90d97\" x=\"48.48016\" y=\"173.52\" style=\"stroke: #000000; stroke-width: 0.8\"/>\n      </g>\n     </g>\n     <g id=\"text_1\">\n      <!-- 0 -->\n      <g transform=\"translate(45.29891 188.118438)scale(0.1 -0.1)\">\n       <defs>\n        <path id=\"DejaVuSans-30\" d=\"M 2034 4250 \nQ 1547 4250 1301 3770 \nQ 1056 3291 1056 2328 \nQ 1056 1369 1301 889 \nQ 1547 409 2034 409 \nQ 2525 409 2770 889 \nQ 3016 1369 3016 2328 \nQ 3016 3291 2770 3770 \nQ 2525 4250 2034 4250 \nz\nM 2034 4750 \nQ 2819 4750 3233 4129 \nQ 3647 3509 3647 2328 \nQ 3647 1150 3233 529 \nQ 2819 -91 2034 -91 \nQ 1250 -91 836 529 \nQ 422 1150 422 2328 \nQ 422 3509 836 4129 \nQ 1250 4750 2034 4750 \nz\n\" transform=\"scale(0.015625)\"/>\n       </defs>\n       <use xlink:href=\"#DejaVuSans-30\"/>\n      </g>\n     </g>\n    </g>\n    <g id=\"xtick_2\">\n     <g id=\"line2d_2\">\n      <g>\n       <use xlink:href=\"#m442fb90d97\" x=\"89.33434\" y=\"173.52\" style=\"stroke: #000000; stroke-width: 0.8\"/>\n      </g>\n     </g>\n     <g id=\"text_2\">\n      <!-- 20 -->\n      <g transform=\"translate(82.97184 188.118438)scale(0.1 -0.1)\">\n       <defs>\n        <path id=\"DejaVuSans-32\" d=\"M 1228 531 \nL 3431 531 \nL 3431 0 \nL 469 0 \nL 469 531 \nQ 828 903 1448 1529 \nQ 2069 2156 2228 2338 \nQ 2531 2678 2651 2914 \nQ 2772 3150 2772 3378 \nQ 2772 3750 2511 3984 \nQ 2250 4219 1831 4219 \nQ 1534 4219 1204 4116 \nQ 875 4013 500 3803 \nL 500 4441 \nQ 881 4594 1212 4672 \nQ 1544 4750 1819 4750 \nQ 2544 4750 2975 4387 \nQ 3406 4025 3406 3419 \nQ 3406 3131 3298 2873 \nQ 3191 2616 2906 2266 \nQ 2828 2175 2409 1742 \nQ 1991 1309 1228 531 \nz\n\" transform=\"scale(0.015625)\"/>\n       </defs>\n       <use xlink:href=\"#DejaVuSans-32\"/>\n       <use xlink:href=\"#DejaVuSans-30\" x=\"63.623047\"/>\n      </g>\n     </g>\n    </g>\n    <g id=\"xtick_3\">\n     <g id=\"line2d_3\">\n      <g>\n       <use xlink:href=\"#m442fb90d97\" x=\"130.188519\" y=\"173.52\" style=\"stroke: #000000; stroke-width: 0.8\"/>\n      </g>\n     </g>\n     <g id=\"text_3\">\n      <!-- 40 -->\n      <g transform=\"translate(123.826019 188.118438)scale(0.1 -0.1)\">\n       <defs>\n        <path id=\"DejaVuSans-34\" d=\"M 2419 4116 \nL 825 1625 \nL 2419 1625 \nL 2419 4116 \nz\nM 2253 4666 \nL 3047 4666 \nL 3047 1625 \nL 3713 1625 \nL 3713 1100 \nL 3047 1100 \nL 3047 0 \nL 2419 0 \nL 2419 1100 \nL 313 1100 \nL 313 1709 \nL 2253 4666 \nz\n\" transform=\"scale(0.015625)\"/>\n       </defs>\n       <use xlink:href=\"#DejaVuSans-34\"/>\n       <use xlink:href=\"#DejaVuSans-30\" x=\"63.623047\"/>\n      </g>\n     </g>\n    </g>\n    <g id=\"xtick_4\">\n     <g id=\"line2d_4\">\n      <g>\n       <use xlink:href=\"#m442fb90d97\" x=\"171.042698\" y=\"173.52\" style=\"stroke: #000000; stroke-width: 0.8\"/>\n      </g>\n     </g>\n     <g id=\"text_4\">\n      <!-- 60 -->\n      <g transform=\"translate(164.680198 188.118438)scale(0.1 -0.1)\">\n       <defs>\n        <path id=\"DejaVuSans-36\" d=\"M 2113 2584 \nQ 1688 2584 1439 2293 \nQ 1191 2003 1191 1497 \nQ 1191 994 1439 701 \nQ 1688 409 2113 409 \nQ 2538 409 2786 701 \nQ 3034 994 3034 1497 \nQ 3034 2003 2786 2293 \nQ 2538 2584 2113 2584 \nz\nM 3366 4563 \nL 3366 3988 \nQ 3128 4100 2886 4159 \nQ 2644 4219 2406 4219 \nQ 1781 4219 1451 3797 \nQ 1122 3375 1075 2522 \nQ 1259 2794 1537 2939 \nQ 1816 3084 2150 3084 \nQ 2853 3084 3261 2657 \nQ 3669 2231 3669 1497 \nQ 3669 778 3244 343 \nQ 2819 -91 2113 -91 \nQ 1303 -91 875 529 \nQ 447 1150 447 2328 \nQ 447 3434 972 4092 \nQ 1497 4750 2381 4750 \nQ 2619 4750 2861 4703 \nQ 3103 4656 3366 4563 \nz\n\" transform=\"scale(0.015625)\"/>\n       </defs>\n       <use xlink:href=\"#DejaVuSans-36\"/>\n       <use xlink:href=\"#DejaVuSans-30\" x=\"63.623047\"/>\n      </g>\n     </g>\n    </g>\n    <g id=\"xtick_5\">\n     <g id=\"line2d_5\">\n      <g>\n       <use xlink:href=\"#m442fb90d97\" x=\"211.896878\" y=\"173.52\" style=\"stroke: #000000; stroke-width: 0.8\"/>\n      </g>\n     </g>\n     <g id=\"text_5\">\n      <!-- 80 -->\n      <g transform=\"translate(205.534378 188.118438)scale(0.1 -0.1)\">\n       <defs>\n        <path id=\"DejaVuSans-38\" d=\"M 2034 2216 \nQ 1584 2216 1326 1975 \nQ 1069 1734 1069 1313 \nQ 1069 891 1326 650 \nQ 1584 409 2034 409 \nQ 2484 409 2743 651 \nQ 3003 894 3003 1313 \nQ 3003 1734 2745 1975 \nQ 2488 2216 2034 2216 \nz\nM 1403 2484 \nQ 997 2584 770 2862 \nQ 544 3141 544 3541 \nQ 544 4100 942 4425 \nQ 1341 4750 2034 4750 \nQ 2731 4750 3128 4425 \nQ 3525 4100 3525 3541 \nQ 3525 3141 3298 2862 \nQ 3072 2584 2669 2484 \nQ 3125 2378 3379 2068 \nQ 3634 1759 3634 1313 \nQ 3634 634 3220 271 \nQ 2806 -91 2034 -91 \nQ 1263 -91 848 271 \nQ 434 634 434 1313 \nQ 434 1759 690 2068 \nQ 947 2378 1403 2484 \nz\nM 1172 3481 \nQ 1172 3119 1398 2916 \nQ 1625 2713 2034 2713 \nQ 2441 2713 2670 2916 \nQ 2900 3119 2900 3481 \nQ 2900 3844 2670 4047 \nQ 2441 4250 2034 4250 \nQ 1625 4250 1398 4047 \nQ 1172 3844 1172 3481 \nz\n\" transform=\"scale(0.015625)\"/>\n       </defs>\n       <use xlink:href=\"#DejaVuSans-38\"/>\n       <use xlink:href=\"#DejaVuSans-30\" x=\"63.623047\"/>\n      </g>\n     </g>\n    </g>\n    <g id=\"xtick_6\">\n     <g id=\"line2d_6\">\n      <g>\n       <use xlink:href=\"#m442fb90d97\" x=\"252.751057\" y=\"173.52\" style=\"stroke: #000000; stroke-width: 0.8\"/>\n      </g>\n     </g>\n     <g id=\"text_6\">\n      <!-- 100 -->\n      <g transform=\"translate(243.207307 188.118438)scale(0.1 -0.1)\">\n       <defs>\n        <path id=\"DejaVuSans-31\" d=\"M 794 531 \nL 1825 531 \nL 1825 4091 \nL 703 3866 \nL 703 4441 \nL 1819 4666 \nL 2450 4666 \nL 2450 531 \nL 3481 531 \nL 3481 0 \nL 794 0 \nL 794 531 \nz\n\" transform=\"scale(0.015625)\"/>\n       </defs>\n       <use xlink:href=\"#DejaVuSans-31\"/>\n       <use xlink:href=\"#DejaVuSans-30\" x=\"63.623047\"/>\n       <use xlink:href=\"#DejaVuSans-30\" x=\"127.246094\"/>\n      </g>\n     </g>\n    </g>\n    <g id=\"xtick_7\">\n     <g id=\"line2d_7\">\n      <g>\n       <use xlink:href=\"#m442fb90d97\" x=\"293.605237\" y=\"173.52\" style=\"stroke: #000000; stroke-width: 0.8\"/>\n      </g>\n     </g>\n     <g id=\"text_7\">\n      <!-- 120 -->\n      <g transform=\"translate(284.061487 188.118438)scale(0.1 -0.1)\">\n       <use xlink:href=\"#DejaVuSans-31\"/>\n       <use xlink:href=\"#DejaVuSans-32\" x=\"63.623047\"/>\n       <use xlink:href=\"#DejaVuSans-30\" x=\"127.246094\"/>\n      </g>\n     </g>\n    </g>\n    <g id=\"xtick_8\">\n     <g id=\"line2d_8\">\n      <g>\n       <use xlink:href=\"#m442fb90d97\" x=\"334.459416\" y=\"173.52\" style=\"stroke: #000000; stroke-width: 0.8\"/>\n      </g>\n     </g>\n     <g id=\"text_8\">\n      <!-- 140 -->\n      <g transform=\"translate(324.915666 188.118438)scale(0.1 -0.1)\">\n       <use xlink:href=\"#DejaVuSans-31\"/>\n       <use xlink:href=\"#DejaVuSans-34\" x=\"63.623047\"/>\n       <use xlink:href=\"#DejaVuSans-30\" x=\"127.246094\"/>\n      </g>\n     </g>\n    </g>\n   </g>\n   <g id=\"matplotlib.axis_2\">\n    <g id=\"ytick_1\">\n     <g id=\"line2d_9\">\n      <defs>\n       <path id=\"mef8abc22d3\" d=\"M 0 0 \nL -3.5 0 \n\" style=\"stroke: #000000; stroke-width: 0.8\"/>\n      </defs>\n      <g>\n       <use xlink:href=\"#mef8abc22d3\" x=\"35.304688\" y=\"158.895236\" style=\"stroke: #000000; stroke-width: 0.8\"/>\n      </g>\n     </g>\n     <g id=\"text_9\">\n      <!-- −60 -->\n      <g transform=\"translate(7.2 162.694454)scale(0.1 -0.1)\">\n       <defs>\n        <path id=\"DejaVuSans-2212\" d=\"M 678 2272 \nL 4684 2272 \nL 4684 1741 \nL 678 1741 \nL 678 2272 \nz\n\" transform=\"scale(0.015625)\"/>\n       </defs>\n       <use xlink:href=\"#DejaVuSans-2212\"/>\n       <use xlink:href=\"#DejaVuSans-36\" x=\"83.789062\"/>\n       <use xlink:href=\"#DejaVuSans-30\" x=\"147.412109\"/>\n      </g>\n     </g>\n    </g>\n    <g id=\"ytick_2\">\n     <g id=\"line2d_10\">\n      <g>\n       <use xlink:href=\"#mef8abc22d3\" x=\"35.304688\" y=\"129.756019\" style=\"stroke: #000000; stroke-width: 0.8\"/>\n      </g>\n     </g>\n     <g id=\"text_10\">\n      <!-- −40 -->\n      <g transform=\"translate(7.2 133.555238)scale(0.1 -0.1)\">\n       <use xlink:href=\"#DejaVuSans-2212\"/>\n       <use xlink:href=\"#DejaVuSans-34\" x=\"83.789062\"/>\n       <use xlink:href=\"#DejaVuSans-30\" x=\"147.412109\"/>\n      </g>\n     </g>\n    </g>\n    <g id=\"ytick_3\">\n     <g id=\"line2d_11\">\n      <g>\n       <use xlink:href=\"#mef8abc22d3\" x=\"35.304688\" y=\"100.616802\" style=\"stroke: #000000; stroke-width: 0.8\"/>\n      </g>\n     </g>\n     <g id=\"text_11\">\n      <!-- −20 -->\n      <g transform=\"translate(7.2 104.416021)scale(0.1 -0.1)\">\n       <use xlink:href=\"#DejaVuSans-2212\"/>\n       <use xlink:href=\"#DejaVuSans-32\" x=\"83.789062\"/>\n       <use xlink:href=\"#DejaVuSans-30\" x=\"147.412109\"/>\n      </g>\n     </g>\n    </g>\n    <g id=\"ytick_4\">\n     <g id=\"line2d_12\">\n      <g>\n       <use xlink:href=\"#mef8abc22d3\" x=\"35.304688\" y=\"71.477586\" style=\"stroke: #000000; stroke-width: 0.8\"/>\n      </g>\n     </g>\n     <g id=\"text_12\">\n      <!-- 0 -->\n      <g transform=\"translate(21.942188 75.276805)scale(0.1 -0.1)\">\n       <use xlink:href=\"#DejaVuSans-30\"/>\n      </g>\n     </g>\n    </g>\n    <g id=\"ytick_5\">\n     <g id=\"line2d_13\">\n      <g>\n       <use xlink:href=\"#mef8abc22d3\" x=\"35.304688\" y=\"42.338369\" style=\"stroke: #000000; stroke-width: 0.8\"/>\n      </g>\n     </g>\n     <g id=\"text_13\">\n      <!-- 20 -->\n      <g transform=\"translate(15.579688 46.137588)scale(0.1 -0.1)\">\n       <use xlink:href=\"#DejaVuSans-32\"/>\n       <use xlink:href=\"#DejaVuSans-30\" x=\"63.623047\"/>\n      </g>\n     </g>\n    </g>\n    <g id=\"ytick_6\">\n     <g id=\"line2d_14\">\n      <g>\n       <use xlink:href=\"#mef8abc22d3\" x=\"35.304688\" y=\"13.199153\" style=\"stroke: #000000; stroke-width: 0.8\"/>\n      </g>\n     </g>\n     <g id=\"text_14\">\n      <!-- 40 -->\n      <g transform=\"translate(15.579688 16.998371)scale(0.1 -0.1)\">\n       <use xlink:href=\"#DejaVuSans-34\"/>\n       <use xlink:href=\"#DejaVuSans-30\" x=\"63.623047\"/>\n      </g>\n     </g>\n    </g>\n   </g>\n   <g id=\"line2d_15\">\n    <path d=\"M 50.522869 71.477586 \nL 52.565578 72.15445 \nL 56.650996 72.695351 \nL 58.693705 73.10969 \nL 60.736414 73.663302 \nL 62.779123 74.401647 \nL 64.821832 75.383954 \nL 66.864541 76.686544 \nL 68.90725 78.406267 \nL 70.949959 80.6634 \nL 72.992668 83.602763 \nL 75.035377 87.390849 \nL 77.078086 92.205605 \nL 79.120795 98.214204 \nL 81.163504 105.533671 \nL 83.206213 114.171192 \nL 85.248922 123.947672 \nL 89.33434 144.848435 \nL 91.377049 154.222041 \nL 93.419758 161.432543 \nL 95.462467 165.52319 \nL 97.505176 165.96 \nL 99.547885 162.791049 \nL 101.590594 156.614869 \nL 103.633303 148.378957 \nL 109.761429 120.815172 \nL 111.804138 112.805039 \nL 113.846847 105.842085 \nL 115.889556 99.937745 \nL 117.932265 95.015416 \nL 119.974974 90.956991 \nL 122.017683 87.63291 \nL 124.060392 84.91916 \nL 126.103101 82.705365 \nL 128.14581 80.897457 \nL 130.188519 79.417444 \nL 132.231228 78.201764 \nL 134.273937 77.199181 \nL 136.316646 76.368652 \nL 140.402064 75.099292 \nL 144.487482 74.203171 \nL 148.5729 73.558387 \nL 154.701027 72.897579 \nL 160.829154 72.468428 \nL 168.99999 72.107139 \nL 181.256243 71.809031 \nL 199.640624 71.610695 \nL 234.366677 71.502949 \nL 352.843797 71.477683 \nL 354.886506 71.477674 \nL 354.886506 71.477674 \n\" clip-path=\"url(#p01edca7290)\" style=\"fill: none; stroke: #1f77b4; stroke-width: 1.5; stroke-linecap: square\"/>\n   </g>\n   <g id=\"line2d_16\">\n    <path d=\"M 50.522869 71.477586 \nL 52.565578 70.978617 \nL 56.650996 70.580281 \nL 60.736414 69.868357 \nL 62.779123 69.326096 \nL 64.821832 68.605737 \nL 66.864541 67.652424 \nL 68.90725 66.397255 \nL 70.949959 64.755935 \nL 72.992668 62.629279 \nL 75.035377 59.90746 \nL 77.078086 56.480853 \nL 79.120795 52.261238 \nL 81.163504 47.2172 \nL 83.206213 41.425305 \nL 87.291631 28.808793 \nL 89.33434 23.168016 \nL 91.377049 19.09841 \nL 93.419758 17.496874 \nL 95.462467 19.023169 \nL 97.505176 23.867998 \nL 99.547885 31.649937 \nL 101.590594 41.504119 \nL 105.676011 63.03242 \nL 107.71872 72.797743 \nL 109.761429 81.104613 \nL 111.804138 87.740667 \nL 113.846847 92.720579 \nL 115.889556 96.199542 \nL 117.932265 98.400389 \nL 119.974974 99.562833 \nL 122.017683 99.913376 \nL 124.060392 99.650578 \nL 126.103101 98.940218 \nL 128.14581 97.916076 \nL 132.231228 95.323004 \nL 142.444773 88.26712 \nL 146.530191 85.767031 \nL 150.615609 83.554394 \nL 154.701027 81.631913 \nL 158.786445 79.982533 \nL 162.871863 78.580112 \nL 166.957281 77.395465 \nL 171.042698 76.399657 \nL 177.170825 75.201677 \nL 183.298952 74.28894 \nL 189.427079 73.596473 \nL 197.597915 72.928343 \nL 207.81146 72.379424 \nL 220.067714 71.986485 \nL 236.409385 71.714518 \nL 260.921893 71.552741 \nL 314.032326 71.48382 \nL 354.886506 71.478504 \nL 354.886506 71.478504 \n\" clip-path=\"url(#p01edca7290)\" style=\"fill: none; stroke: #ff7f0e; stroke-width: 1.5; stroke-linecap: square\"/>\n   </g>\n   <g id=\"line2d_17\">\n    <path d=\"M 50.522869 71.477586 \nL 54.608287 71.250163 \nL 60.736414 70.928551 \nL 64.821832 70.492329 \nL 68.90725 69.717253 \nL 70.949959 69.130764 \nL 72.992668 68.356757 \nL 75.035377 67.341265 \nL 77.078086 66.019217 \nL 79.120795 64.315424 \nL 81.163504 62.148349 \nL 83.206213 59.438229 \nL 85.248922 56.120923 \nL 87.291631 52.167835 \nL 89.33434 47.609701 \nL 93.419758 37.2164 \nL 95.462467 31.866932 \nL 97.505176 26.836798 \nL 99.547885 22.443477 \nL 101.590594 18.940618 \nL 103.633303 16.480882 \nL 105.676011 15.105737 \nL 107.71872 14.76 \nL 109.761429 15.320811 \nL 111.804138 16.629459 \nL 113.846847 18.518069 \nL 115.889556 20.827953 \nL 119.974974 26.177916 \nL 128.14581 37.326766 \nL 132.231228 42.363684 \nL 136.316646 46.846758 \nL 140.402064 50.755188 \nL 144.487482 54.115189 \nL 148.5729 56.975495 \nL 152.658318 59.393285 \nL 156.743736 61.426432 \nL 160.829154 63.129481 \nL 164.914572 64.551801 \nL 168.99999 65.736949 \nL 173.085407 66.72271 \nL 179.213534 67.89701 \nL 185.341661 68.783854 \nL 191.469788 69.452452 \nL 199.640624 70.094284 \nL 209.854169 70.6193 \nL 222.110423 70.993902 \nL 238.452094 71.252597 \nL 265.007311 71.412769 \nL 324.245871 71.473553 \nL 354.886506 71.476627 \nL 354.886506 71.476627 \n\" clip-path=\"url(#p01edca7290)\" style=\"fill: none; stroke: #2ca02c; stroke-width: 1.5; stroke-linecap: square\"/>\n   </g>\n   <g id=\"line2d_18\">\n    <path d=\"M 50.522869 71.477586 \nL 75.035377 71.27077 \nL 81.163504 71.011124 \nL 87.291631 70.512098 \nL 95.462467 69.497053 \nL 101.590594 68.850737 \nL 105.676011 68.658993 \nL 109.761429 68.669747 \nL 115.889556 68.945104 \nL 142.444773 70.528758 \nL 154.701027 70.926428 \nL 171.042698 71.216337 \nL 195.555206 71.393892 \nL 244.580221 71.469144 \nL 354.886506 71.477538 \nL 354.886506 71.477538 \n\" clip-path=\"url(#p01edca7290)\" style=\"fill: none; stroke: #d62728; stroke-width: 1.5; stroke-linecap: square\"/>\n   </g>\n   <g id=\"line2d_19\">\n    <path d=\"M 50.522869 71.477586 \nL 75.035377 71.684402 \nL 81.163504 71.944048 \nL 87.291631 72.443073 \nL 95.462467 73.458119 \nL 101.590594 74.104434 \nL 105.676011 74.296178 \nL 109.761429 74.285425 \nL 115.889556 74.010067 \nL 142.444773 72.426414 \nL 154.701027 72.028744 \nL 171.042698 71.738835 \nL 195.555206 71.56128 \nL 244.580221 71.486028 \nL 354.886506 71.477634 \nL 354.886506 71.477634 \n\" clip-path=\"url(#p01edca7290)\" style=\"fill: none; stroke: #9467bd; stroke-width: 1.5; stroke-linecap: square\"/>\n   </g>\n   <g id=\"patch_3\">\n    <path d=\"M 35.304688 173.52 \nL 35.304688 7.2 \n\" style=\"fill: none; stroke: #000000; stroke-width: 0.8; stroke-linejoin: miter; stroke-linecap: square\"/>\n   </g>\n   <g id=\"patch_4\">\n    <path d=\"M 370.104688 173.52 \nL 370.104688 7.2 \n\" style=\"fill: none; stroke: #000000; stroke-width: 0.8; stroke-linejoin: miter; stroke-linecap: square\"/>\n   </g>\n   <g id=\"patch_5\">\n    <path d=\"M 35.304688 173.52 \nL 370.104687 173.52 \n\" style=\"fill: none; stroke: #000000; stroke-width: 0.8; stroke-linejoin: miter; stroke-linecap: square\"/>\n   </g>\n   <g id=\"patch_6\">\n    <path d=\"M 35.304688 7.2 \nL 370.104687 7.2 \n\" style=\"fill: none; stroke: #000000; stroke-width: 0.8; stroke-linejoin: miter; stroke-linecap: square\"/>\n   </g>\n   <g id=\"legend_1\">\n    <g id=\"patch_7\">\n     <path d=\"M 323.404688 168.52 \nL 363.104688 168.52 \nQ 365.104688 168.52 365.104688 166.52 \nL 365.104688 94.129375 \nQ 365.104688 92.129375 363.104688 92.129375 \nL 323.404688 92.129375 \nQ 321.404688 92.129375 321.404688 94.129375 \nL 321.404688 166.52 \nQ 321.404688 168.52 323.404688 168.52 \nz\n\" style=\"fill: #ffffff; opacity: 0.8; stroke: #cccccc; stroke-linejoin: miter\"/>\n    </g>\n    <g id=\"line2d_20\">\n     <path d=\"M 325.404688 100.227813 \nL 335.404688 100.227813 \nL 345.404688 100.227813 \n\" style=\"fill: none; stroke: #1f77b4; stroke-width: 1.5; stroke-linecap: square\"/>\n    </g>\n    <g id=\"text_15\">\n     <!-- S -->\n     <g transform=\"translate(353.404688 103.727813)scale(0.1 -0.1)\">\n      <defs>\n       <path id=\"DejaVuSans-53\" d=\"M 3425 4513 \nL 3425 3897 \nQ 3066 4069 2747 4153 \nQ 2428 4238 2131 4238 \nQ 1616 4238 1336 4038 \nQ 1056 3838 1056 3469 \nQ 1056 3159 1242 3001 \nQ 1428 2844 1947 2747 \nL 2328 2669 \nQ 3034 2534 3370 2195 \nQ 3706 1856 3706 1288 \nQ 3706 609 3251 259 \nQ 2797 -91 1919 -91 \nQ 1588 -91 1214 -16 \nQ 841 59 441 206 \nL 441 856 \nQ 825 641 1194 531 \nQ 1563 422 1919 422 \nQ 2459 422 2753 634 \nQ 3047 847 3047 1241 \nQ 3047 1584 2836 1778 \nQ 2625 1972 2144 2069 \nL 1759 2144 \nQ 1053 2284 737 2584 \nQ 422 2884 422 3419 \nQ 422 4038 858 4394 \nQ 1294 4750 2059 4750 \nQ 2388 4750 2728 4690 \nQ 3069 4631 3425 4513 \nz\n\" transform=\"scale(0.015625)\"/>\n      </defs>\n      <use xlink:href=\"#DejaVuSans-53\"/>\n     </g>\n    </g>\n    <g id=\"line2d_21\">\n     <path d=\"M 325.404688 114.905938 \nL 335.404688 114.905938 \nL 345.404688 114.905938 \n\" style=\"fill: none; stroke: #ff7f0e; stroke-width: 1.5; stroke-linecap: square\"/>\n    </g>\n    <g id=\"text_16\">\n     <!-- I -->\n     <g transform=\"translate(353.404688 118.405938)scale(0.1 -0.1)\">\n      <defs>\n       <path id=\"DejaVuSans-49\" d=\"M 628 4666 \nL 1259 4666 \nL 1259 0 \nL 628 0 \nL 628 4666 \nz\n\" transform=\"scale(0.015625)\"/>\n      </defs>\n      <use xlink:href=\"#DejaVuSans-49\"/>\n     </g>\n    </g>\n    <g id=\"line2d_22\">\n     <path d=\"M 325.404688 129.584063 \nL 335.404688 129.584063 \nL 345.404688 129.584063 \n\" style=\"fill: none; stroke: #2ca02c; stroke-width: 1.5; stroke-linecap: square\"/>\n    </g>\n    <g id=\"text_17\">\n     <!-- R -->\n     <g transform=\"translate(353.404688 133.084063)scale(0.1 -0.1)\">\n      <defs>\n       <path id=\"DejaVuSans-52\" d=\"M 2841 2188 \nQ 3044 2119 3236 1894 \nQ 3428 1669 3622 1275 \nL 4263 0 \nL 3584 0 \nL 2988 1197 \nQ 2756 1666 2539 1819 \nQ 2322 1972 1947 1972 \nL 1259 1972 \nL 1259 0 \nL 628 0 \nL 628 4666 \nL 2053 4666 \nQ 2853 4666 3247 4331 \nQ 3641 3997 3641 3322 \nQ 3641 2881 3436 2590 \nQ 3231 2300 2841 2188 \nz\nM 1259 4147 \nL 1259 2491 \nL 2053 2491 \nQ 2509 2491 2742 2702 \nQ 2975 2913 2975 3322 \nQ 2975 3731 2742 3939 \nQ 2509 4147 2053 4147 \nL 1259 4147 \nz\n\" transform=\"scale(0.015625)\"/>\n      </defs>\n      <use xlink:href=\"#DejaVuSans-52\"/>\n     </g>\n    </g>\n    <g id=\"line2d_23\">\n     <path d=\"M 325.404688 144.262188 \nL 335.404688 144.262188 \nL 345.404688 144.262188 \n\" style=\"fill: none; stroke: #d62728; stroke-width: 1.5; stroke-linecap: square\"/>\n    </g>\n    <g id=\"text_18\">\n     <!-- D -->\n     <g transform=\"translate(353.404688 147.762188)scale(0.1 -0.1)\">\n      <defs>\n       <path id=\"DejaVuSans-44\" d=\"M 1259 4147 \nL 1259 519 \nL 2022 519 \nQ 2988 519 3436 956 \nQ 3884 1394 3884 2338 \nQ 3884 3275 3436 3711 \nQ 2988 4147 2022 4147 \nL 1259 4147 \nz\nM 628 4666 \nL 1925 4666 \nQ 3281 4666 3915 4102 \nQ 4550 3538 4550 2338 \nQ 4550 1131 3912 565 \nQ 3275 0 1925 0 \nL 628 0 \nL 628 4666 \nz\n\" transform=\"scale(0.015625)\"/>\n      </defs>\n      <use xlink:href=\"#DejaVuSans-44\"/>\n     </g>\n    </g>\n    <g id=\"line2d_24\">\n     <path d=\"M 325.404688 158.940313 \nL 335.404688 158.940313 \nL 345.404688 158.940313 \n\" style=\"fill: none; stroke: #9467bd; stroke-width: 1.5; stroke-linecap: square\"/>\n    </g>\n    <g id=\"text_19\">\n     <!-- N -->\n     <g transform=\"translate(353.404688 162.440313)scale(0.1 -0.1)\">\n      <defs>\n       <path id=\"DejaVuSans-4e\" d=\"M 628 4666 \nL 1478 4666 \nL 3547 763 \nL 3547 4666 \nL 4159 4666 \nL 4159 0 \nL 3309 0 \nL 1241 3903 \nL 1241 0 \nL 628 0 \nL 628 4666 \nz\n\" transform=\"scale(0.015625)\"/>\n      </defs>\n      <use xlink:href=\"#DejaVuSans-4e\"/>\n     </g>\n    </g>\n   </g>\n  </g>\n </g>\n <defs>\n  <clipPath id=\"p01edca7290\">\n   <rect x=\"35.304688\" y=\"7.2\" width=\"334.8\" height=\"166.32\"/>\n  </clipPath>\n </defs>\n</svg>\n"
     },
     "metadata": {},
     "output_type": "display_data"
    }
   ],
   "source": [
    "woplot(weifen,t)"
   ],
   "metadata": {
    "collapsed": false
   }
  },
  {
   "cell_type": "code",
   "execution_count": 252,
   "outputs": [],
   "source": [
    "# 普通线性网络，把时间加入\n",
    "# def simple_with_time(data_with_time, batch_size, train_ratio):\n",
    "#     total_size = len(data_with_time)\n",
    "#     train_size = int(total_size * train_ratio)\n",
    "#\n",
    "#     train_dataset = TensorDataset(data_with_time[:train_size, -1].type(torch.float32),data_with_time[:train_size, :-1].type(torch.float32))\n",
    "#     test_dataset = TensorDataset( data_with_time[train_size:, -1].type(torch.float32),data_with_time[train_size:, :-1].type(torch.float32))\n",
    "#\n",
    "#     train_loader = DataLoader(train_dataset, batch_size=batch_size, shuffle=False)\n",
    "#     test_loader = DataLoader(test_dataset, batch_size=batch_size, shuffle=False)\n",
    "#\n",
    "#     return train_loader, test_loader\n",
    "\n",
    "def simple_with_time(data_with_time, batch_size, train_ratio):\n",
    "    total_size = len(data_with_time)\n",
    "    train_size = int(total_size * train_ratio)\n",
    "\n",
    "    train_dataset = TensorDataset(data_with_time[:train_size, 1:].type(torch.float32),data_with_time[:train_size, 0].type(torch.float32))\n",
    "    test_dataset = TensorDataset( data_with_time[train_size:, -1].type(torch.float32),data_with_time[train_size:, :-1].type(torch.float32))\n",
    "\n",
    "    train_loader = DataLoader(train_dataset, batch_size=batch_size, shuffle=False)\n",
    "    test_loader = DataLoader(test_dataset, batch_size=batch_size, shuffle=False)\n",
    "\n",
    "    return train_loader, test_loader"
   ],
   "metadata": {
    "collapsed": false
   }
  },
  {
   "cell_type": "code",
   "execution_count": 253,
   "outputs": [],
   "source": [
    "train_data,test_data=simple_with_time(simulation_normalized,10,0.9)"
   ],
   "metadata": {
    "collapsed": false
   }
  },
  {
   "cell_type": "code",
   "execution_count": 255,
   "outputs": [
    {
     "name": "stdout",
     "output_type": "stream",
     "text": [
      "tensor([0.2232, 0.2231, 0.2230, 0.2228, 0.2225, 0.2222, 0.2217, 0.2211, 0.2203,\n",
      "        0.2193])\n"
     ]
    },
    {
     "ename": "NameError",
     "evalue": "name 'ss' is not defined",
     "output_type": "error",
     "traceback": [
      "\u001B[1;31m---------------------------------------------------------------------------\u001B[0m",
      "\u001B[1;31mNameError\u001B[0m                                 Traceback (most recent call last)",
      "Cell \u001B[1;32mIn[255], line 3\u001B[0m\n\u001B[0;32m      1\u001B[0m \u001B[38;5;28;01mfor\u001B[39;00m x,y \u001B[38;5;129;01min\u001B[39;00m train_data:\n\u001B[0;32m      2\u001B[0m     \u001B[38;5;28mprint\u001B[39m(y)\n\u001B[1;32m----> 3\u001B[0m     \u001B[43mss\u001B[49m\n",
      "\u001B[1;31mNameError\u001B[0m: name 'ss' is not defined"
     ]
    }
   ],
   "source": [
    "for x,y in train_data:\n",
    "    print(y)\n",
    "    ss"
   ],
   "metadata": {
    "collapsed": false
   }
  },
  {
   "cell_type": "code",
   "execution_count": 273,
   "outputs": [
    {
     "data": {
      "text/plain": "Net(\n  (layer): Sequential(\n    (0): Linear(in_features=5, out_features=64, bias=True)\n    (1): ReLU()\n    (2): Linear(in_features=64, out_features=128, bias=True)\n    (3): BatchNorm1d(128, eps=1e-05, momentum=0.1, affine=True, track_running_stats=True)\n    (4): ReLU()\n    (5): Linear(in_features=128, out_features=256, bias=True)\n    (6): BatchNorm1d(256, eps=1e-05, momentum=0.1, affine=True, track_running_stats=True)\n    (7): ReLU()\n    (8): Linear(in_features=256, out_features=128, bias=True)\n    (9): BatchNorm1d(128, eps=1e-05, momentum=0.1, affine=True, track_running_stats=True)\n    (10): ReLU()\n    (11): Linear(in_features=128, out_features=64, bias=True)\n    (12): BatchNorm1d(64, eps=1e-05, momentum=0.1, affine=True, track_running_stats=True)\n    (13): ReLU()\n    (14): Linear(in_features=64, out_features=1, bias=True)\n    (15): Sigmoid()\n  )\n)"
     },
     "execution_count": 273,
     "metadata": {},
     "output_type": "execute_result"
    }
   ],
   "source": [
    "class Net(nn.Module):\n",
    "    def __init__(self):\n",
    "        super(Net, self).__init__()\n",
    "        self.layer=nn.Sequential(\n",
    "            nn.Linear(5,64),\n",
    "            nn.ReLU(),\n",
    "            nn.Linear(64,128),\n",
    "            nn.BatchNorm1d(128),\n",
    "            nn.ReLU(),\n",
    "            nn.Linear(128,256),\n",
    "            nn.BatchNorm1d(256),\n",
    "            nn.ReLU(),\n",
    "            nn.Linear(256,128),\n",
    "            nn.BatchNorm1d(128),\n",
    "            nn.ReLU(),\n",
    "            nn.Linear(128,64),\n",
    "            nn.BatchNorm1d(64),\n",
    "            nn.ReLU(),\n",
    "            nn.Linear(64,1),\n",
    "            nn.Sigmoid(),\n",
    "        )\n",
    "\n",
    "    def forward(self, x):\n",
    "        return self.layer(x)\n",
    "\n",
    "net = Net()\n",
    "def init_weights(m):\n",
    "        if type(m)==nn.Linear:\n",
    "            nn.init.xavier_normal_(m.weight)\n",
    "net.apply(init_weights)"
   ],
   "metadata": {
    "collapsed": false
   }
  },
  {
   "cell_type": "code",
   "execution_count": 275,
   "outputs": [
    {
     "data": {
      "text/plain": "Net(\n  (layer): Sequential(\n    (0): Linear(in_features=5, out_features=64, bias=True)\n    (1): ReLU()\n    (2): Linear(in_features=64, out_features=128, bias=True)\n    (3): BatchNorm1d(128, eps=1e-05, momentum=0.1, affine=True, track_running_stats=True)\n    (4): ReLU()\n    (5): Linear(in_features=128, out_features=256, bias=True)\n    (6): BatchNorm1d(256, eps=1e-05, momentum=0.1, affine=True, track_running_stats=True)\n    (7): ReLU()\n    (8): Linear(in_features=256, out_features=128, bias=True)\n    (9): BatchNorm1d(128, eps=1e-05, momentum=0.1, affine=True, track_running_stats=True)\n    (10): ReLU()\n    (11): Linear(in_features=128, out_features=64, bias=True)\n    (12): BatchNorm1d(64, eps=1e-05, momentum=0.1, affine=True, track_running_stats=True)\n    (13): ReLU()\n    (14): Linear(in_features=64, out_features=1, bias=True)\n    (15): Sigmoid()\n  )\n)"
     },
     "execution_count": 275,
     "metadata": {},
     "output_type": "execute_result"
    }
   ],
   "source": [
    "criterion = nn.MSELoss()\n",
    "optimizer = torch.optim.Adam(net.parameters(), lr=0.005)\n",
    "# scheduler = StepLR(optimizer, step_size=1, gamma=0.1)\n",
    "net.to(device)\n",
    "for epoch in range(300):\n",
    "    for X_train, y_train in train_data:\n",
    "        # X_train = X_train.reshape(-1, 1)\n",
    "        X_train = X_train.to(device)\n",
    "        y_train=y_train.to(device)\n",
    "        y_pred = net(X_train)\n",
    "        # print(y_pred)\n",
    "        # print(y_train)\n",
    "        # ee\n",
    "        optimizer.zero_grad()\n",
    "        loss = criterion(y_pred.squeeze(), y_train)\n",
    "        loss.backward()\n",
    "        optimizer.step()\n",
    "\n",
    "    # with torch.no_grad():\n",
    "    #     test_loss = 0\n",
    "    #     for X_test, y_test in test_data:\n",
    "    #         X_test = X_test.reshape(-1, 1).to(device)\n",
    "    #         y_test=y_test.to(device)\n",
    "    #         y_pred = net(X_test)\n",
    "    #         test_loss += criterion(y_pred.squeeze(), y_test).item()\n",
    "    #\n",
    "    # if epoch%10==0:\n",
    "    #     print('Epoch:', epoch, 'Train loss:', loss.item(), 'Test loss:', test_loss/len(test_data))\n",
    "net.to('cpu')"
   ],
   "metadata": {
    "collapsed": false
   }
  },
  {
   "cell_type": "code",
   "execution_count": 276,
   "outputs": [
    {
     "data": {
      "text/plain": "array([[0.00056047],\n       [0.0005705 ],\n       [0.00059195],\n       [0.00063003],\n       [0.00069347],\n       [0.00079833],\n       [0.00097233],\n       [0.00122486],\n       [0.00166096],\n       [0.00244886],\n       [0.00406083],\n       [0.00764836],\n       [0.01472213],\n       [0.02915247],\n       [0.05974352],\n       [0.08162139],\n       [0.07450686],\n       [0.06627627],\n       [0.06317847],\n       [0.05949062],\n       [0.05939743],\n       [0.0610967 ],\n       [0.05392292],\n       [0.0385231 ],\n       [0.00930422],\n       [0.00026988],\n       [0.00000253],\n       [0.00000004],\n       [0.        ],\n       [0.        ],\n       [0.        ],\n       [0.        ],\n       [0.        ],\n       [0.00000012],\n       [0.00000718],\n       [0.00021067],\n       [0.00203725],\n       [0.00607808],\n       [0.01004022],\n       [0.0153018 ],\n       [0.02614467],\n       [0.0302934 ],\n       [0.03546762],\n       [0.0417721 ],\n       [0.04829734],\n       [0.05268106],\n       [0.05819014],\n       [0.05869811],\n       [0.05166642],\n       [0.04898093],\n       [0.04618618],\n       [0.04902432],\n       [0.05239552],\n       [0.05619957],\n       [0.06242781],\n       [0.06593855],\n       [0.06919441],\n       [0.07307343],\n       [0.07686476],\n       [0.08052035],\n       [0.0845538 ],\n       [0.08837248],\n       [0.09420627],\n       [0.10045274],\n       [0.1060543 ],\n       [0.10997539],\n       [0.1125282 ],\n       [0.11507136],\n       [0.11751827],\n       [0.12025017],\n       [0.12325493],\n       [0.1245521 ],\n       [0.12541221],\n       [0.12680067],\n       [0.12833622],\n       [0.12945484],\n       [0.13096803],\n       [0.13061003],\n       [0.13000427],\n       [0.12933145],\n       [0.1281411 ],\n       [0.1255114 ],\n       [0.12252213],\n       [0.11984668],\n       [0.11705838],\n       [0.1143522 ],\n       [0.11186924],\n       [0.10975869],\n       [0.10779236],\n       [0.10589083],\n       [0.10431014],\n       [0.10271335],\n       [0.10112394],\n       [0.09980899],\n       [0.09869173],\n       [0.09764984],\n       [0.09661213],\n       [0.0952784 ],\n       [0.09405427],\n       [0.09297242],\n       [0.0917853 ],\n       [0.09060659],\n       [0.08938994],\n       [0.08825535],\n       [0.08684879],\n       [0.08532439],\n       [0.08379371],\n       [0.08247734],\n       [0.08099286],\n       [0.079223  ],\n       [0.07743663],\n       [0.07564517],\n       [0.07408191],\n       [0.07252727],\n       [0.07080833],\n       [0.06899817],\n       [0.0672984 ],\n       [0.06572369],\n       [0.06416199],\n       [0.06260417],\n       [0.06093147],\n       [0.05919918],\n       [0.05731254],\n       [0.05554048],\n       [0.05404688],\n       [0.05261925],\n       [0.0511793 ],\n       [0.04984653],\n       [0.04833833],\n       [0.04679288],\n       [0.04506927],\n       [0.04273198],\n       [0.04034622],\n       [0.03822376],\n       [0.03618767],\n       [0.03421034],\n       [0.03255776],\n       [0.03118291],\n       [0.02955256],\n       [0.0279522 ],\n       [0.02637171],\n       [0.02482079],\n       [0.02331049],\n       [0.02173352],\n       [0.0201936 ],\n       [0.01871387],\n       [0.01738211],\n       [0.01601418],\n       [0.0141413 ],\n       [0.01228699]], dtype=float32)"
     },
     "execution_count": 276,
     "metadata": {},
     "output_type": "execute_result"
    }
   ],
   "source": [
    "# shuru=torch.tensor([1,2,3,4,5],dtype=torch.float32).reshape(-1, 1)\n",
    "# _,_,shuru_normalized=guiyihua(shuru)\n",
    "test=simulation_normalized[:,1:].float()\n",
    "out=net(test).detach().numpy()\n",
    "out"
   ],
   "metadata": {
    "collapsed": false
   }
  },
  {
   "cell_type": "code",
   "execution_count": 277,
   "outputs": [
    {
     "data": {
      "text/plain": "[<matplotlib.lines.Line2D at 0x1bbb5f0ca30>]"
     },
     "execution_count": 277,
     "metadata": {},
     "output_type": "execute_result"
    },
    {
     "data": {
      "text/plain": "<Figure size 600x300 with 1 Axes>",
      "image/svg+xml": "<?xml version=\"1.0\" encoding=\"utf-8\" standalone=\"no\"?>\n<!DOCTYPE svg PUBLIC \"-//W3C//DTD SVG 1.1//EN\"\n  \"http://www.w3.org/Graphics/SVG/1.1/DTD/svg11.dtd\">\n<svg xmlns:xlink=\"http://www.w3.org/1999/xlink\" width=\"378.465625pt\" height=\"197.398125pt\" viewBox=\"0 0 378.465625 197.398125\" xmlns=\"http://www.w3.org/2000/svg\" version=\"1.1\">\n <metadata>\n  <rdf:RDF xmlns:dc=\"http://purl.org/dc/elements/1.1/\" xmlns:cc=\"http://creativecommons.org/ns#\" xmlns:rdf=\"http://www.w3.org/1999/02/22-rdf-syntax-ns#\">\n   <cc:Work>\n    <dc:type rdf:resource=\"http://purl.org/dc/dcmitype/StillImage\"/>\n    <dc:date>2023-04-18T00:16:11.121032</dc:date>\n    <dc:format>image/svg+xml</dc:format>\n    <dc:creator>\n     <cc:Agent>\n      <dc:title>Matplotlib v3.5.1, https://matplotlib.org/</dc:title>\n     </cc:Agent>\n    </dc:creator>\n   </cc:Work>\n  </rdf:RDF>\n </metadata>\n <defs>\n  <style type=\"text/css\">*{stroke-linejoin: round; stroke-linecap: butt}</style>\n </defs>\n <g id=\"figure_1\">\n  <g id=\"patch_1\">\n   <path d=\"M 0 197.398125 \nL 378.465625 197.398125 \nL 378.465625 0 \nL 0 0 \nz\n\" style=\"fill: #ffffff\"/>\n  </g>\n  <g id=\"axes_1\">\n   <g id=\"patch_2\">\n    <path d=\"M 36.465625 173.52 \nL 371.265625 173.52 \nL 371.265625 7.2 \nL 36.465625 7.2 \nz\n\" style=\"fill: #ffffff\"/>\n   </g>\n   <g id=\"matplotlib.axis_1\">\n    <g id=\"xtick_1\">\n     <g id=\"line2d_1\">\n      <defs>\n       <path id=\"m1676e04edc\" d=\"M 0 0 \nL 0 3.5 \n\" style=\"stroke: #000000; stroke-width: 0.8\"/>\n      </defs>\n      <g>\n       <use xlink:href=\"#m1676e04edc\" x=\"51.683807\" y=\"173.52\" style=\"stroke: #000000; stroke-width: 0.8\"/>\n      </g>\n     </g>\n     <g id=\"text_1\">\n      <!-- 0 -->\n      <g transform=\"translate(48.502557 188.118438)scale(0.1 -0.1)\">\n       <defs>\n        <path id=\"DejaVuSans-30\" d=\"M 2034 4250 \nQ 1547 4250 1301 3770 \nQ 1056 3291 1056 2328 \nQ 1056 1369 1301 889 \nQ 1547 409 2034 409 \nQ 2525 409 2770 889 \nQ 3016 1369 3016 2328 \nQ 3016 3291 2770 3770 \nQ 2525 4250 2034 4250 \nz\nM 2034 4750 \nQ 2819 4750 3233 4129 \nQ 3647 3509 3647 2328 \nQ 3647 1150 3233 529 \nQ 2819 -91 2034 -91 \nQ 1250 -91 836 529 \nQ 422 1150 422 2328 \nQ 422 3509 836 4129 \nQ 1250 4750 2034 4750 \nz\n\" transform=\"scale(0.015625)\"/>\n       </defs>\n       <use xlink:href=\"#DejaVuSans-30\"/>\n      </g>\n     </g>\n    </g>\n    <g id=\"xtick_2\">\n     <g id=\"line2d_2\">\n      <g>\n       <use xlink:href=\"#m1676e04edc\" x=\"92.537986\" y=\"173.52\" style=\"stroke: #000000; stroke-width: 0.8\"/>\n      </g>\n     </g>\n     <g id=\"text_2\">\n      <!-- 20 -->\n      <g transform=\"translate(86.175486 188.118438)scale(0.1 -0.1)\">\n       <defs>\n        <path id=\"DejaVuSans-32\" d=\"M 1228 531 \nL 3431 531 \nL 3431 0 \nL 469 0 \nL 469 531 \nQ 828 903 1448 1529 \nQ 2069 2156 2228 2338 \nQ 2531 2678 2651 2914 \nQ 2772 3150 2772 3378 \nQ 2772 3750 2511 3984 \nQ 2250 4219 1831 4219 \nQ 1534 4219 1204 4116 \nQ 875 4013 500 3803 \nL 500 4441 \nQ 881 4594 1212 4672 \nQ 1544 4750 1819 4750 \nQ 2544 4750 2975 4387 \nQ 3406 4025 3406 3419 \nQ 3406 3131 3298 2873 \nQ 3191 2616 2906 2266 \nQ 2828 2175 2409 1742 \nQ 1991 1309 1228 531 \nz\n\" transform=\"scale(0.015625)\"/>\n       </defs>\n       <use xlink:href=\"#DejaVuSans-32\"/>\n       <use xlink:href=\"#DejaVuSans-30\" x=\"63.623047\"/>\n      </g>\n     </g>\n    </g>\n    <g id=\"xtick_3\">\n     <g id=\"line2d_3\">\n      <g>\n       <use xlink:href=\"#m1676e04edc\" x=\"133.392166\" y=\"173.52\" style=\"stroke: #000000; stroke-width: 0.8\"/>\n      </g>\n     </g>\n     <g id=\"text_3\">\n      <!-- 40 -->\n      <g transform=\"translate(127.029666 188.118438)scale(0.1 -0.1)\">\n       <defs>\n        <path id=\"DejaVuSans-34\" d=\"M 2419 4116 \nL 825 1625 \nL 2419 1625 \nL 2419 4116 \nz\nM 2253 4666 \nL 3047 4666 \nL 3047 1625 \nL 3713 1625 \nL 3713 1100 \nL 3047 1100 \nL 3047 0 \nL 2419 0 \nL 2419 1100 \nL 313 1100 \nL 313 1709 \nL 2253 4666 \nz\n\" transform=\"scale(0.015625)\"/>\n       </defs>\n       <use xlink:href=\"#DejaVuSans-34\"/>\n       <use xlink:href=\"#DejaVuSans-30\" x=\"63.623047\"/>\n      </g>\n     </g>\n    </g>\n    <g id=\"xtick_4\">\n     <g id=\"line2d_4\">\n      <g>\n       <use xlink:href=\"#m1676e04edc\" x=\"174.246345\" y=\"173.52\" style=\"stroke: #000000; stroke-width: 0.8\"/>\n      </g>\n     </g>\n     <g id=\"text_4\">\n      <!-- 60 -->\n      <g transform=\"translate(167.883845 188.118438)scale(0.1 -0.1)\">\n       <defs>\n        <path id=\"DejaVuSans-36\" d=\"M 2113 2584 \nQ 1688 2584 1439 2293 \nQ 1191 2003 1191 1497 \nQ 1191 994 1439 701 \nQ 1688 409 2113 409 \nQ 2538 409 2786 701 \nQ 3034 994 3034 1497 \nQ 3034 2003 2786 2293 \nQ 2538 2584 2113 2584 \nz\nM 3366 4563 \nL 3366 3988 \nQ 3128 4100 2886 4159 \nQ 2644 4219 2406 4219 \nQ 1781 4219 1451 3797 \nQ 1122 3375 1075 2522 \nQ 1259 2794 1537 2939 \nQ 1816 3084 2150 3084 \nQ 2853 3084 3261 2657 \nQ 3669 2231 3669 1497 \nQ 3669 778 3244 343 \nQ 2819 -91 2113 -91 \nQ 1303 -91 875 529 \nQ 447 1150 447 2328 \nQ 447 3434 972 4092 \nQ 1497 4750 2381 4750 \nQ 2619 4750 2861 4703 \nQ 3103 4656 3366 4563 \nz\n\" transform=\"scale(0.015625)\"/>\n       </defs>\n       <use xlink:href=\"#DejaVuSans-36\"/>\n       <use xlink:href=\"#DejaVuSans-30\" x=\"63.623047\"/>\n      </g>\n     </g>\n    </g>\n    <g id=\"xtick_5\">\n     <g id=\"line2d_5\">\n      <g>\n       <use xlink:href=\"#m1676e04edc\" x=\"215.100524\" y=\"173.52\" style=\"stroke: #000000; stroke-width: 0.8\"/>\n      </g>\n     </g>\n     <g id=\"text_5\">\n      <!-- 80 -->\n      <g transform=\"translate(208.738024 188.118438)scale(0.1 -0.1)\">\n       <defs>\n        <path id=\"DejaVuSans-38\" d=\"M 2034 2216 \nQ 1584 2216 1326 1975 \nQ 1069 1734 1069 1313 \nQ 1069 891 1326 650 \nQ 1584 409 2034 409 \nQ 2484 409 2743 651 \nQ 3003 894 3003 1313 \nQ 3003 1734 2745 1975 \nQ 2488 2216 2034 2216 \nz\nM 1403 2484 \nQ 997 2584 770 2862 \nQ 544 3141 544 3541 \nQ 544 4100 942 4425 \nQ 1341 4750 2034 4750 \nQ 2731 4750 3128 4425 \nQ 3525 4100 3525 3541 \nQ 3525 3141 3298 2862 \nQ 3072 2584 2669 2484 \nQ 3125 2378 3379 2068 \nQ 3634 1759 3634 1313 \nQ 3634 634 3220 271 \nQ 2806 -91 2034 -91 \nQ 1263 -91 848 271 \nQ 434 634 434 1313 \nQ 434 1759 690 2068 \nQ 947 2378 1403 2484 \nz\nM 1172 3481 \nQ 1172 3119 1398 2916 \nQ 1625 2713 2034 2713 \nQ 2441 2713 2670 2916 \nQ 2900 3119 2900 3481 \nQ 2900 3844 2670 4047 \nQ 2441 4250 2034 4250 \nQ 1625 4250 1398 4047 \nQ 1172 3844 1172 3481 \nz\n\" transform=\"scale(0.015625)\"/>\n       </defs>\n       <use xlink:href=\"#DejaVuSans-38\"/>\n       <use xlink:href=\"#DejaVuSans-30\" x=\"63.623047\"/>\n      </g>\n     </g>\n    </g>\n    <g id=\"xtick_6\">\n     <g id=\"line2d_6\">\n      <g>\n       <use xlink:href=\"#m1676e04edc\" x=\"255.954704\" y=\"173.52\" style=\"stroke: #000000; stroke-width: 0.8\"/>\n      </g>\n     </g>\n     <g id=\"text_6\">\n      <!-- 100 -->\n      <g transform=\"translate(246.410954 188.118438)scale(0.1 -0.1)\">\n       <defs>\n        <path id=\"DejaVuSans-31\" d=\"M 794 531 \nL 1825 531 \nL 1825 4091 \nL 703 3866 \nL 703 4441 \nL 1819 4666 \nL 2450 4666 \nL 2450 531 \nL 3481 531 \nL 3481 0 \nL 794 0 \nL 794 531 \nz\n\" transform=\"scale(0.015625)\"/>\n       </defs>\n       <use xlink:href=\"#DejaVuSans-31\"/>\n       <use xlink:href=\"#DejaVuSans-30\" x=\"63.623047\"/>\n       <use xlink:href=\"#DejaVuSans-30\" x=\"127.246094\"/>\n      </g>\n     </g>\n    </g>\n    <g id=\"xtick_7\">\n     <g id=\"line2d_7\">\n      <g>\n       <use xlink:href=\"#m1676e04edc\" x=\"296.808883\" y=\"173.52\" style=\"stroke: #000000; stroke-width: 0.8\"/>\n      </g>\n     </g>\n     <g id=\"text_7\">\n      <!-- 120 -->\n      <g transform=\"translate(287.265133 188.118438)scale(0.1 -0.1)\">\n       <use xlink:href=\"#DejaVuSans-31\"/>\n       <use xlink:href=\"#DejaVuSans-32\" x=\"63.623047\"/>\n       <use xlink:href=\"#DejaVuSans-30\" x=\"127.246094\"/>\n      </g>\n     </g>\n    </g>\n    <g id=\"xtick_8\">\n     <g id=\"line2d_8\">\n      <g>\n       <use xlink:href=\"#m1676e04edc\" x=\"337.663062\" y=\"173.52\" style=\"stroke: #000000; stroke-width: 0.8\"/>\n      </g>\n     </g>\n     <g id=\"text_8\">\n      <!-- 140 -->\n      <g transform=\"translate(328.119312 188.118438)scale(0.1 -0.1)\">\n       <use xlink:href=\"#DejaVuSans-31\"/>\n       <use xlink:href=\"#DejaVuSans-34\" x=\"63.623047\"/>\n       <use xlink:href=\"#DejaVuSans-30\" x=\"127.246094\"/>\n      </g>\n     </g>\n    </g>\n   </g>\n   <g id=\"matplotlib.axis_2\">\n    <g id=\"ytick_1\">\n     <g id=\"line2d_9\">\n      <defs>\n       <path id=\"m52ac7ff3c7\" d=\"M 0 0 \nL -3.5 0 \n\" style=\"stroke: #000000; stroke-width: 0.8\"/>\n      </defs>\n      <g>\n       <use xlink:href=\"#m52ac7ff3c7\" x=\"36.465625\" y=\"165.96\" style=\"stroke: #000000; stroke-width: 0.8\"/>\n      </g>\n     </g>\n     <g id=\"text_9\">\n      <!-- 0.00 -->\n      <g transform=\"translate(7.2 169.759219)scale(0.1 -0.1)\">\n       <defs>\n        <path id=\"DejaVuSans-2e\" d=\"M 684 794 \nL 1344 794 \nL 1344 0 \nL 684 0 \nL 684 794 \nz\n\" transform=\"scale(0.015625)\"/>\n       </defs>\n       <use xlink:href=\"#DejaVuSans-30\"/>\n       <use xlink:href=\"#DejaVuSans-2e\" x=\"63.623047\"/>\n       <use xlink:href=\"#DejaVuSans-30\" x=\"95.410156\"/>\n       <use xlink:href=\"#DejaVuSans-30\" x=\"159.033203\"/>\n      </g>\n     </g>\n    </g>\n    <g id=\"ytick_2\">\n     <g id=\"line2d_10\">\n      <g>\n       <use xlink:href=\"#m52ac7ff3c7\" x=\"36.465625\" y=\"142.870396\" style=\"stroke: #000000; stroke-width: 0.8\"/>\n      </g>\n     </g>\n     <g id=\"text_10\">\n      <!-- 0.02 -->\n      <g transform=\"translate(7.2 146.669615)scale(0.1 -0.1)\">\n       <use xlink:href=\"#DejaVuSans-30\"/>\n       <use xlink:href=\"#DejaVuSans-2e\" x=\"63.623047\"/>\n       <use xlink:href=\"#DejaVuSans-30\" x=\"95.410156\"/>\n       <use xlink:href=\"#DejaVuSans-32\" x=\"159.033203\"/>\n      </g>\n     </g>\n    </g>\n    <g id=\"ytick_3\">\n     <g id=\"line2d_11\">\n      <g>\n       <use xlink:href=\"#m52ac7ff3c7\" x=\"36.465625\" y=\"119.780793\" style=\"stroke: #000000; stroke-width: 0.8\"/>\n      </g>\n     </g>\n     <g id=\"text_11\">\n      <!-- 0.04 -->\n      <g transform=\"translate(7.2 123.580012)scale(0.1 -0.1)\">\n       <use xlink:href=\"#DejaVuSans-30\"/>\n       <use xlink:href=\"#DejaVuSans-2e\" x=\"63.623047\"/>\n       <use xlink:href=\"#DejaVuSans-30\" x=\"95.410156\"/>\n       <use xlink:href=\"#DejaVuSans-34\" x=\"159.033203\"/>\n      </g>\n     </g>\n    </g>\n    <g id=\"ytick_4\">\n     <g id=\"line2d_12\">\n      <g>\n       <use xlink:href=\"#m52ac7ff3c7\" x=\"36.465625\" y=\"96.691189\" style=\"stroke: #000000; stroke-width: 0.8\"/>\n      </g>\n     </g>\n     <g id=\"text_12\">\n      <!-- 0.06 -->\n      <g transform=\"translate(7.2 100.490408)scale(0.1 -0.1)\">\n       <use xlink:href=\"#DejaVuSans-30\"/>\n       <use xlink:href=\"#DejaVuSans-2e\" x=\"63.623047\"/>\n       <use xlink:href=\"#DejaVuSans-30\" x=\"95.410156\"/>\n       <use xlink:href=\"#DejaVuSans-36\" x=\"159.033203\"/>\n      </g>\n     </g>\n    </g>\n    <g id=\"ytick_5\">\n     <g id=\"line2d_13\">\n      <g>\n       <use xlink:href=\"#m52ac7ff3c7\" x=\"36.465625\" y=\"73.601585\" style=\"stroke: #000000; stroke-width: 0.8\"/>\n      </g>\n     </g>\n     <g id=\"text_13\">\n      <!-- 0.08 -->\n      <g transform=\"translate(7.2 77.400804)scale(0.1 -0.1)\">\n       <use xlink:href=\"#DejaVuSans-30\"/>\n       <use xlink:href=\"#DejaVuSans-2e\" x=\"63.623047\"/>\n       <use xlink:href=\"#DejaVuSans-30\" x=\"95.410156\"/>\n       <use xlink:href=\"#DejaVuSans-38\" x=\"159.033203\"/>\n      </g>\n     </g>\n    </g>\n    <g id=\"ytick_6\">\n     <g id=\"line2d_14\">\n      <g>\n       <use xlink:href=\"#m52ac7ff3c7\" x=\"36.465625\" y=\"50.511982\" style=\"stroke: #000000; stroke-width: 0.8\"/>\n      </g>\n     </g>\n     <g id=\"text_14\">\n      <!-- 0.10 -->\n      <g transform=\"translate(7.2 54.311201)scale(0.1 -0.1)\">\n       <use xlink:href=\"#DejaVuSans-30\"/>\n       <use xlink:href=\"#DejaVuSans-2e\" x=\"63.623047\"/>\n       <use xlink:href=\"#DejaVuSans-31\" x=\"95.410156\"/>\n       <use xlink:href=\"#DejaVuSans-30\" x=\"159.033203\"/>\n      </g>\n     </g>\n    </g>\n    <g id=\"ytick_7\">\n     <g id=\"line2d_15\">\n      <g>\n       <use xlink:href=\"#m52ac7ff3c7\" x=\"36.465625\" y=\"27.422378\" style=\"stroke: #000000; stroke-width: 0.8\"/>\n      </g>\n     </g>\n     <g id=\"text_15\">\n      <!-- 0.12 -->\n      <g transform=\"translate(7.2 31.221597)scale(0.1 -0.1)\">\n       <use xlink:href=\"#DejaVuSans-30\"/>\n       <use xlink:href=\"#DejaVuSans-2e\" x=\"63.623047\"/>\n       <use xlink:href=\"#DejaVuSans-31\" x=\"95.410156\"/>\n       <use xlink:href=\"#DejaVuSans-32\" x=\"159.033203\"/>\n      </g>\n     </g>\n    </g>\n   </g>\n   <g id=\"line2d_16\">\n    <path d=\"M 51.683807 165.312949 \nL 59.854643 165.159407 \nL 63.940061 164.837464 \nL 65.98277 164.54592 \nL 68.025479 164.042459 \nL 70.068188 163.132836 \nL 72.110897 161.271852 \nL 74.153605 157.130124 \nL 76.196314 148.963591 \nL 78.239023 132.304052 \nL 80.281732 96.987286 \nL 82.324441 71.729727 \nL 84.36715 79.943311 \nL 86.409859 89.445363 \nL 88.452568 93.021706 \nL 90.495277 97.279257 \nL 92.537986 97.386841 \nL 94.580695 95.425073 \nL 96.623404 103.70706 \nL 98.666113 121.485844 \nL 100.708822 155.218465 \nL 102.751531 165.648429 \nL 104.79424 165.957074 \nL 121.135912 165.951714 \nL 123.178621 165.716791 \nL 125.22133 163.608036 \nL 129.306748 154.368766 \nL 131.349457 148.294376 \nL 133.392166 135.776494 \nL 135.434875 130.986873 \nL 137.477584 125.01333 \nL 141.563001 110.20168 \nL 143.60571 105.140758 \nL 145.648419 98.780636 \nL 147.691128 98.194195 \nL 149.733837 106.312142 \nL 153.819255 112.638972 \nL 155.861964 109.362397 \nL 157.904673 105.470412 \nL 159.947382 101.078707 \nL 161.990091 93.888329 \nL 164.0328 89.835254 \nL 166.075509 86.076429 \nL 170.160927 77.221162 \nL 172.203636 73.000855 \nL 176.289054 63.935719 \nL 178.331763 57.200733 \nL 180.374472 49.989307 \nL 182.417181 43.522414 \nL 184.45989 38.995592 \nL 192.630726 27.133567 \nL 194.673435 23.664632 \nL 196.716144 22.167068 \nL 198.758853 21.174088 \nL 200.801562 19.571138 \nL 202.844271 17.798376 \nL 204.886979 16.506957 \nL 206.929688 14.76 \nL 208.972397 15.173304 \nL 213.057815 16.649399 \nL 215.100524 18.023634 \nL 217.143233 21.059584 \nL 219.185942 24.510628 \nL 227.356778 36.809181 \nL 231.442196 41.515854 \nL 233.484905 43.711132 \nL 239.613032 49.214411 \nL 241.655741 50.732498 \nL 245.741159 53.225201 \nL 247.783868 54.423207 \nL 251.869286 57.376204 \nL 255.954704 59.995694 \nL 262.082831 64.070952 \nL 266.168249 67.454681 \nL 268.210958 69.221817 \nL 270.253666 70.741547 \nL 272.296375 72.455345 \nL 278.424502 78.629149 \nL 282.50992 82.228699 \nL 290.680756 90.083305 \nL 296.808883 95.615825 \nL 298.851592 97.615715 \nL 302.93701 101.839613 \nL 309.065137 106.874516 \nL 311.107846 108.413165 \nL 315.193264 111.938552 \nL 317.235973 113.928426 \nL 321.321391 119.381084 \nL 325.406809 124.182055 \nL 327.449518 126.464841 \nL 329.492227 128.372712 \nL 331.534936 129.959949 \nL 337.663062 135.514384 \nL 347.876607 144.355211 \nL 351.962025 147.471945 \nL 356.047443 151.774909 \nL 356.047443 151.774909 \n\" clip-path=\"url(#p1b4bd452ef)\" style=\"fill: none; stroke: #1f77b4; stroke-width: 1.5; stroke-linecap: square\"/>\n   </g>\n   <g id=\"patch_3\">\n    <path d=\"M 36.465625 173.52 \nL 36.465625 7.2 \n\" style=\"fill: none; stroke: #000000; stroke-width: 0.8; stroke-linejoin: miter; stroke-linecap: square\"/>\n   </g>\n   <g id=\"patch_4\">\n    <path d=\"M 371.265625 173.52 \nL 371.265625 7.2 \n\" style=\"fill: none; stroke: #000000; stroke-width: 0.8; stroke-linejoin: miter; stroke-linecap: square\"/>\n   </g>\n   <g id=\"patch_5\">\n    <path d=\"M 36.465625 173.52 \nL 371.265625 173.52 \n\" style=\"fill: none; stroke: #000000; stroke-width: 0.8; stroke-linejoin: miter; stroke-linecap: square\"/>\n   </g>\n   <g id=\"patch_6\">\n    <path d=\"M 36.465625 7.2 \nL 371.265625 7.2 \n\" style=\"fill: none; stroke: #000000; stroke-width: 0.8; stroke-linejoin: miter; stroke-linecap: square\"/>\n   </g>\n  </g>\n </g>\n <defs>\n  <clipPath id=\"p1b4bd452ef\">\n   <rect x=\"36.465625\" y=\"7.2\" width=\"334.8\" height=\"166.32\"/>\n  </clipPath>\n </defs>\n</svg>\n"
     },
     "metadata": {},
     "output_type": "display_data"
    }
   ],
   "source": [
    "plt.plot(out)"
   ],
   "metadata": {
    "collapsed": false
   }
  },
  {
   "cell_type": "code",
   "execution_count": 185,
   "outputs": [
    {
     "data": {
      "text/plain": "tensor([[-9.4127e+02, -2.8740e+02, -1.9485e+02, -3.3812e+01,  8.8613e+02],\n        [-8.6983e+02, -2.5492e+02, -1.7222e+02, -3.3236e+01,  8.8815e+02],\n        [-8.0234e+02, -2.2080e+02, -1.4652e+02, -3.2338e+01,  8.9037e+02],\n        [-7.4328e+02, -1.8163e+02, -1.1749e+02, -3.1460e+01,  8.9239e+02],\n        [-6.8227e+02, -1.4594e+02, -8.7169e+01, -2.9771e+01,  8.9514e+02],\n        [-6.3703e+02, -1.1067e+02, -6.0488e+01, -2.8053e+01,  8.9899e+02],\n        [-5.8550e+02, -7.5001e+01, -3.3693e+01, -2.6377e+01,  9.0321e+02],\n        [-5.2591e+02, -4.0241e+01, -6.2501e+00, -2.4655e+01,  9.0742e+02],\n        [-4.5546e+02, -6.7701e+00,  2.1928e+01, -2.2869e+01,  9.1156e+02],\n        [-3.8594e+02,  2.6953e+01,  5.0592e+01, -2.1119e+01,  9.1571e+02],\n        [-3.1630e+02,  6.0717e+01,  7.9410e+01, -1.9354e+01,  9.1986e+02],\n        [-2.4967e+02,  1.0110e+02,  1.1542e+02, -1.6835e+01,  9.2332e+02],\n        [-2.0995e+02,  1.4369e+02,  1.5571e+02, -1.4094e+01,  9.2602e+02],\n        [-1.9387e+02,  1.9170e+02,  1.8954e+02, -1.1873e+01,  9.2911e+02],\n        [-1.7377e+02,  2.3688e+02,  2.2435e+02, -9.3525e+00,  9.3238e+02],\n        [-1.4530e+02,  2.7603e+02,  2.6319e+02, -6.7103e+00,  9.3567e+02],\n        [-1.1560e+02,  3.1012e+02,  2.9541e+02, -4.8836e+00,  9.3846e+02],\n        [-8.9593e+01,  3.3755e+02,  3.1177e+02, -3.2682e+00,  9.4169e+02],\n        [-7.1844e+01,  3.6070e+02,  3.0009e+02, -3.0389e+00,  9.4507e+02],\n        [-4.1487e+01,  3.6784e+02,  2.7676e+02, -4.1193e+00,  9.4876e+02],\n        [-1.1729e+01,  3.7622e+02,  2.4960e+02, -5.0844e+00,  9.5241e+02],\n        [ 1.9985e+01,  3.8832e+02,  2.0712e+02, -5.6030e+00,  9.5586e+02],\n        [ 4.0970e+01,  4.0337e+02,  1.5209e+02, -6.1892e+00,  9.5876e+02],\n        [ 1.2646e+01,  4.1430e+02,  9.3279e+01, -7.1272e+00,  9.6297e+02],\n        [-2.2623e+01,  4.1999e+02,  4.2705e+01, -9.2151e+00,  9.6669e+02],\n        [-8.9873e+01,  4.0873e+02, -1.5646e+01, -1.1182e+01,  9.7128e+02],\n        [-1.4235e+02,  3.9049e+02, -8.6233e+01, -1.1780e+01,  9.7578e+02],\n        [-1.8044e+02,  3.5823e+02, -1.4117e+02, -1.1523e+01,  9.7917e+02],\n        [-1.8703e+02,  3.2698e+02, -2.0249e+02, -1.0780e+01,  9.8152e+02],\n        [-1.8329e+02,  3.0311e+02, -2.4549e+02, -9.9564e+00,  9.8301e+02],\n        [-1.5629e+02,  2.8901e+02, -2.7996e+02, -8.4627e+00,  9.8396e+02],\n        [-9.1203e+01,  2.7732e+02, -3.1683e+02, -6.2446e+00,  9.8466e+02],\n        [-4.9814e+01,  2.4829e+02, -3.4987e+02, -4.4144e+00,  9.8505e+02],\n        [-1.9487e+01,  2.0714e+02, -3.7172e+02, -1.7636e+00,  9.8433e+02],\n        [-4.4780e+00,  1.7622e+02, -4.1299e+02,  1.2018e+00,  9.8278e+02],\n        [ 4.3930e+01,  1.4560e+02, -4.5696e+02,  5.8743e+00,  9.8203e+02],\n        [ 9.7769e+01,  1.2205e+02, -4.8226e+02,  8.7141e+00,  9.8083e+02],\n        [ 1.4107e+02,  1.0703e+02, -4.9711e+02,  8.5339e+00,  9.8071e+02],\n        [ 1.8345e+02,  9.2779e+01, -5.2334e+02,  8.8742e+00,  9.8095e+02],\n        [ 2.3660e+02,  8.5556e+01, -5.4047e+02,  9.2439e+00,  9.8066e+02],\n        [ 2.9966e+02,  7.0855e+01, -5.5840e+02,  1.1393e+01,  9.8002e+02],\n        [ 3.5641e+02,  5.1123e+01, -5.8004e+02,  1.2676e+01,  9.7877e+02],\n        [ 4.1136e+02,  2.0562e+01, -5.8907e+02,  1.5273e+01,  9.7844e+02],\n        [ 4.3517e+02, -2.4137e+00, -6.1071e+02,  1.5105e+01,  9.7885e+02],\n        [ 4.4735e+02, -3.8227e+01, -6.6197e+02,  1.4820e+01,  9.8183e+02],\n        [ 4.5582e+02, -7.0192e+01, -6.8982e+02,  1.6114e+01,  9.8487e+02],\n        [ 4.1187e+02, -9.5134e+01, -7.1352e+02,  1.5528e+01,  9.8691e+02],\n        [ 3.6439e+02, -1.0693e+02, -7.4828e+02,  1.2542e+01,  9.8824e+02],\n        [ 3.9571e+02, -1.1401e+02, -7.7944e+02,  1.0823e+01,  9.8991e+02],\n        [ 4.3066e+02, -1.2663e+02, -8.0953e+02,  1.1123e+01,  9.9029e+02],\n        [ 4.1830e+02, -1.3746e+02, -8.2546e+02,  1.1717e+01,  9.9148e+02],\n        [ 3.8660e+02, -1.3493e+02, -8.5725e+02,  1.1925e+01,  9.9208e+02],\n        [ 3.7984e+02, -1.2487e+02, -8.6372e+02,  1.1928e+01,  9.9221e+02],\n        [ 3.5286e+02, -1.2230e+02, -8.4477e+02,  1.0357e+01,  9.9081e+02],\n        [ 3.5169e+02, -1.1022e+02, -7.9390e+02,  9.7593e+00,  9.8986e+02],\n        [ 3.2848e+02, -8.1565e+01, -7.7296e+02,  9.1912e+00,  9.8701e+02],\n        [ 2.5076e+02, -4.0677e+01, -7.6539e+02,  4.1456e+00,  9.8254e+02],\n        [ 2.0050e+02,  5.1035e+00, -7.2282e+02, -7.2764e-01,  9.7670e+02],\n        [ 2.1114e+02,  5.5653e+01, -6.5755e+02, -5.2835e+00,  9.7133e+02],\n        [ 2.3579e+02,  1.0746e+02, -5.8362e+02, -1.0052e+01,  9.6623e+02],\n        [ 2.6103e+02,  1.5763e+02, -5.1924e+02, -1.3468e+01,  9.6149e+02],\n        [ 2.6566e+02,  2.0723e+02, -4.8208e+02, -1.4000e+01,  9.5775e+02],\n        [ 2.5617e+02,  2.4996e+02, -4.1957e+02, -1.2429e+01,  9.5425e+02],\n        [ 2.6347e+02,  2.9990e+02, -3.5204e+02, -1.1252e+01,  9.5051e+02],\n        [ 2.4060e+02,  3.5391e+02, -2.9707e+02, -1.1666e+01,  9.4568e+02],\n        [ 2.7682e+02,  3.8965e+02, -2.1083e+02, -1.2575e+01,  9.4328e+02],\n        [ 3.1983e+02,  4.0438e+02, -1.7268e+02, -1.5862e+01,  9.4338e+02],\n        [ 3.6073e+02,  4.1051e+02, -1.4928e+02, -1.8759e+01,  9.4359e+02],\n        [ 3.5836e+02,  3.9040e+02, -9.6071e+01, -2.0883e+01,  9.4626e+02],\n        [ 3.5885e+02,  3.6686e+02, -4.0460e+01, -2.2686e+01,  9.4881e+02],\n        [ 3.8431e+02,  3.4171e+02,  3.4616e+01, -2.3572e+01,  9.5152e+02],\n        [ 4.4250e+02,  3.0793e+02,  1.1926e+02, -2.4630e+01,  9.5424e+02],\n        [ 4.8920e+02,  2.7134e+02,  1.9304e+02, -2.4995e+01,  9.5652e+02],\n        [ 5.2142e+02,  2.4448e+02,  2.5325e+02, -2.4083e+01,  9.5838e+02],\n        [ 5.6683e+02,  2.2730e+02,  3.2915e+02, -1.7900e+01,  9.6047e+02],\n        [ 5.5665e+02,  1.8332e+02,  3.0363e+02, -1.3419e+01,  9.6456e+02],\n        [ 5.4190e+02,  1.4680e+02,  2.2817e+02, -8.5397e+00,  9.6714e+02],\n        [ 4.4501e+02,  1.1973e+02,  1.3778e+02, -6.2031e+00,  9.6944e+02],\n        [ 3.3334e+02,  1.0075e+02,  7.1524e+01, -5.5449e+00,  9.7171e+02],\n        [ 2.4343e+02,  8.3270e+01,  4.7421e+01, -5.6085e+00,  9.7400e+02],\n        [ 1.5619e+02,  6.7859e+01,  4.6162e+01, -7.0688e+00,  9.7627e+02],\n        [ 8.8853e+01,  5.1978e+01,  7.1398e+01, -8.8890e+00,  9.7776e+02],\n        [ 5.1353e+01,  4.4243e+01,  7.6151e+01, -9.8900e+00,  9.7849e+02],\n        [ 1.4929e+01,  3.0504e+01,  7.4985e+01, -1.0426e+01,  9.7906e+02],\n        [-3.4525e+01,  1.2695e+01,  5.2744e+01, -9.5447e+00,  9.7890e+02],\n        [-9.5445e+01, -1.4694e+01,  5.2150e+01, -8.3245e+00,  9.7820e+02],\n        [-1.5745e+02, -2.9427e+01,  5.4525e+01, -7.3695e+00,  9.7587e+02],\n        [-2.0659e+02, -3.5584e+01,  7.2463e+01, -6.4380e+00,  9.7277e+02],\n        [-2.3172e+02, -4.8977e+01,  1.0170e+02, -3.3666e+00,  9.7129e+02],\n        [-2.5426e+02, -6.0243e+01,  1.1492e+02, -5.7873e-01,  9.7025e+02],\n        [-2.5981e+02, -6.7495e+01,  1.2659e+02,  1.4831e+00,  9.6850e+02],\n        [-2.1041e+02, -6.5667e+01,  1.2890e+02,  3.6503e+00,  9.6781e+02],\n        [-1.2169e+02, -2.7829e+01,  1.3520e+02,  3.7836e+00,  9.6693e+02],\n        [-3.3756e+01,  1.2815e+01,  1.4410e+02,  2.3401e+00,  9.6612e+02],\n        [ 4.9648e+01,  4.8913e+01,  1.5366e+02,  1.8608e+00,  9.6499e+02],\n        [ 8.3310e+01,  7.9104e+01,  1.3857e+02, -6.9128e-02,  9.6297e+02],\n        [ 1.0882e+02,  1.0695e+02,  1.1431e+02, -1.6393e+00,  9.6147e+02],\n        [ 1.3991e+02,  1.2329e+02,  8.9649e+01, -1.2363e+00,  9.6006e+02],\n        [ 1.7670e+02,  1.3122e+02,  4.8002e+01, -4.9631e-01,  9.5919e+02],\n        [ 2.3820e+02,  1.3661e+02, -8.3223e-01, -1.1856e+00,  9.5783e+02],\n        [ 2.7803e+02,  1.2600e+02, -4.8546e+01, -2.4996e+00,  9.5682e+02],\n        [ 2.8726e+02,  1.1476e+02, -6.8474e+01, -1.9931e+00,  9.5535e+02],\n        [ 2.9337e+02,  1.0353e+02, -9.1508e+01, -1.1689e+00,  9.5454e+02],\n        [ 2.9468e+02,  9.6179e+01, -1.2014e+02, -5.6265e-01,  9.5425e+02],\n        [ 2.6393e+02,  9.1082e+01, -1.5707e+02, -1.1199e+00,  9.5347e+02],\n        [ 1.7087e+02,  1.0558e+02, -2.1364e+02, -5.0889e+00,  9.5249e+02],\n        [ 4.8689e+01,  1.4760e+02, -2.6411e+02, -1.0213e+01,  9.5261e+02],\n        [-7.2574e+01,  2.0525e+02, -3.3257e+02, -1.5822e+01,  9.5245e+02],\n        [-1.8943e+02,  2.6252e+02, -3.9223e+02, -2.2956e+01,  9.5128e+02],\n        [-2.8100e+02,  3.0745e+02, -4.5145e+02, -2.9494e+01,  9.4867e+02],\n        [-3.7765e+02,  3.3845e+02, -4.8590e+02, -3.3325e+01,  9.4576e+02],\n        [-4.4025e+02,  3.6031e+02, -4.8250e+02, -3.4817e+01,  9.4383e+02],\n        [-4.8260e+02,  3.7339e+02, -4.5981e+02, -3.6899e+01,  9.4397e+02],\n        [-4.9642e+02,  3.5430e+02, -4.3164e+02, -3.8176e+01,  9.4614e+02],\n        [-5.2094e+02,  3.2381e+02, -3.9058e+02, -3.9225e+01,  9.4728e+02],\n        [-5.4733e+02,  2.8449e+02, -3.5290e+02, -3.8940e+01,  9.4814e+02],\n        [-5.7077e+02,  2.3319e+02, -2.9057e+02, -3.4770e+01,  9.5028e+02],\n        [-5.9493e+02,  1.8392e+02, -2.4803e+02, -3.1418e+01,  9.5234e+02],\n        [-6.0369e+02,  1.4993e+02, -2.0471e+02, -2.9275e+01,  9.5328e+02],\n        [-5.7188e+02,  1.2844e+02, -1.8718e+02, -2.5661e+01,  9.5378e+02],\n        [-5.5279e+02,  1.1837e+02, -1.8875e+02, -2.2443e+01,  9.5254e+02],\n        [-4.9749e+02,  1.1238e+02, -2.1229e+02, -1.8930e+01,  9.5256e+02],\n        [-4.4424e+02,  1.0765e+02, -2.2947e+02, -1.5539e+01,  9.5264e+02],\n        [-3.9933e+02,  1.0385e+02, -2.2139e+02, -1.2149e+01,  9.5262e+02],\n        [-3.7287e+02,  1.0350e+02, -1.8794e+02, -8.1530e+00,  9.5316e+02],\n        [-3.5262e+02,  1.0630e+02, -1.4506e+02, -4.6000e+00,  9.5284e+02],\n        [-3.4379e+02,  1.1023e+02, -9.7379e+01, -1.3412e+00,  9.5251e+02],\n        [-3.4495e+02,  1.1438e+02, -4.8014e+01,  1.9613e+00,  9.5233e+02],\n        [-3.1813e+02,  1.1810e+02,  1.6711e+01,  4.5402e+00,  9.5196e+02],\n        [-2.8391e+02,  1.2372e+02,  8.2114e+01,  7.2549e+00,  9.5180e+02],\n        [-2.5010e+02,  1.3512e+02,  1.3384e+02,  9.1775e+00,  9.5182e+02],\n        [-2.1185e+02,  1.4316e+02,  1.9027e+02,  1.1238e+01,  9.5204e+02],\n        [-1.9077e+02,  1.5306e+02,  2.3202e+02,  1.2317e+01,  9.5209e+02],\n        [-1.6448e+02,  1.5404e+02,  2.6983e+02,  1.2746e+01,  9.5241e+02],\n        [-1.2848e+02,  1.3137e+02,  2.9938e+02,  1.2069e+01,  9.5385e+02],\n        [-9.1571e+01,  1.1071e+02,  3.3788e+02,  1.1326e+01,  9.5579e+02],\n        [-5.3698e+01,  8.7368e+01,  3.8624e+02,  1.0764e+01,  9.5730e+02],\n        [-2.9836e+01,  5.9106e+01,  4.3127e+02,  9.7391e+00,  9.5820e+02],\n        [-1.5042e+01,  2.7810e+01,  4.9668e+02,  1.0016e+01,  9.5829e+02],\n        [-9.6165e+00, -2.7844e+00,  5.6634e+02,  9.5152e+00,  9.5886e+02],\n        [-1.4558e+01, -3.6897e+01,  6.2645e+02,  9.2535e+00,  9.5974e+02],\n        [-1.4988e+01, -7.2293e+01,  6.7800e+02,  9.1016e+00,  9.6079e+02],\n        [-2.2647e+01, -1.1533e+02,  7.2021e+02,  8.3205e+00,  9.6223e+02],\n        [-2.6150e+01, -1.5910e+02,  7.5240e+02,  8.0604e+00,  9.6347e+02],\n        [-3.7576e+01, -2.0420e+02,  7.9432e+02,  7.9767e+00,  9.6515e+02],\n        [-6.6411e+01, -2.4927e+02,  8.3172e+02,  8.1970e+00,  9.6646e+02],\n        [-1.0562e+02, -2.9521e+02,  8.7200e+02,  8.7820e+00,  9.6774e+02],\n        [-1.4562e+02, -3.4663e+02,  9.1716e+02,  9.4763e+00,  9.6924e+02],\n        [-1.8315e+02, -4.0325e+02,  9.6689e+02,  1.0148e+01,  9.7096e+02],\n        [-2.2117e+02, -4.5942e+02,  1.0164e+03,  1.0825e+01,  9.7266e+02]],\n       dtype=torch.float64, grad_fn=<AddBackward0>)"
     },
     "execution_count": 185,
     "metadata": {},
     "output_type": "execute_result"
    }
   ],
   "source": [
    "denormalized_simulation = out * (col_max[:5] - col_min[:5]) + col_min[:5]\n",
    "denormalized_simulation"
   ],
   "metadata": {
    "collapsed": false
   }
  },
  {
   "cell_type": "code",
   "execution_count": 18,
   "outputs": [],
   "source": [
    "# 用LSTM"
   ],
   "metadata": {
    "collapsed": false
   }
  },
  {
   "cell_type": "code",
   "execution_count": 55,
   "outputs": [],
   "source": [
    "train_data,test_data=simple_with_time(simulation_normalized,5,0.9)"
   ],
   "metadata": {
    "collapsed": false
   }
  },
  {
   "cell_type": "code",
   "execution_count": 56,
   "outputs": [],
   "source": [
    "class parameter_layer(nn.Module):\n",
    "    def __init__(self, input_size, hidden_size, num_layers, output_size):\n",
    "        super(parameter_layer, self).__init__()\n",
    "        self.hidden_size = hidden_size\n",
    "        self.num_layers = num_layers\n",
    "        self.lstm = nn.LSTM(input_size, hidden_size, num_layers, batch_first=True)\n",
    "        self.fc = nn.Linear(hidden_size, output_size)\n",
    "        for name, param in self.lstm.named_parameters():\n",
    "            if 'weight' in name:\n",
    "                torch.nn.init.xavier_normal_(param)\n",
    "            elif 'bias' in name:\n",
    "                torch.nn.init.constant_(param, 0.0)\n",
    "\n",
    "    def forward(self, x):\n",
    "        h0 = torch.zeros(self.num_layers, x.size(0), self.hidden_size).to(device=x.device)\n",
    "        c0 = torch.zeros(self.num_layers, x.size(0), self.hidden_size).to(device=x.device)\n",
    "        # 转换维度\n",
    "        x = x.view(x.size(0), 1, x.size(1))\n",
    "        # 前向\n",
    "        out, _ = self.lstm(x, (h0, c0))\n",
    "        # 解码\n",
    "        out = self.fc(out[:, -1, :])\n",
    "        return out"
   ],
   "metadata": {
    "collapsed": false
   }
  },
  {
   "cell_type": "code",
   "execution_count": 57,
   "outputs": [],
   "source": [
    "class MyLinear(nn.Module):\n",
    "    def __init__(self, input_size, hidden_size, num_layers, output_size):\n",
    "        super(MyLinear,self).__init__()\n",
    "        self.dS = parameter_layer(input_size, hidden_size, num_layers, output_size)\n",
    "        self.dI = parameter_layer(input_size, hidden_size, num_layers, output_size)\n",
    "        self.dR = parameter_layer(input_size, hidden_size, num_layers, output_size)\n",
    "        self.dD= parameter_layer(input_size, hidden_size, num_layers, output_size)\n",
    "        self.dN = parameter_layer(input_size, hidden_size, num_layers, output_size)\n",
    "        # self.layer=nn.Sequential(\n",
    "        #     nn.Linear(5,16),\n",
    "        #     nn.ReLU(),\n",
    "        #     nn.Linear(16,32),\n",
    "        #     nn.ReLU(),\n",
    "        #     nn.Linear(32,5),\n",
    "        #     nn.Softmax(dim=1)\n",
    "        # )\n",
    "    def forward(self, x):\n",
    "        dS = self.dS(x)\n",
    "        dI = self.dI(x)\n",
    "        dR = self.dR(x)\n",
    "        dD = self.dD(x)\n",
    "        dN = self.dN(x)\n",
    "        output = torch.stack([dS, dI, dR, dD, dN], dim=0)\n",
    "        return output\n"
   ],
   "metadata": {
    "collapsed": false
   }
  },
  {
   "cell_type": "code",
   "execution_count": 58,
   "outputs": [],
   "source": [
    "net=MyLinear(1,128,2,1)\n",
    "def init_weights(m):\n",
    "        if type(m)==nn.Linear:\n",
    "            nn.init.xavier_normal_(m.weight)\n",
    "net.apply(init_weights)\n",
    "net.to(device)\n",
    "loss = nn.MSELoss()\n",
    "# optimizer= torch.optim.SGD(net.parameters(), lr=0.01)\n",
    "optimizer_dS = torch.optim.Adam(net.dS.parameters(), lr=0.01)\n",
    "optimizer_dI = torch.optim.Adam(net.dI.parameters(), lr=0.01)\n",
    "optimizer_dR = torch.optim.Adam(net.dR.parameters(), lr=0.01)\n",
    "optimizer_dD = torch.optim.Adam(net.dD.parameters(), lr=0.01)\n",
    "optimizer_dN = torch.optim.Adam(net.dN.parameters(), lr=0.01)\n"
   ],
   "metadata": {
    "collapsed": false
   }
  },
  {
   "cell_type": "code",
   "execution_count": 59,
   "outputs": [
    {
     "name": "stdout",
     "output_type": "stream",
     "text": [
      "epoch 1, loss 0.00025558890774846077\n",
      "epoch 2, loss 0.00013720779679715633\n",
      "epoch 3, loss 5.736167076975107e-05\n",
      "epoch 4, loss 0.00017637398559600115\n",
      "epoch 5, loss 7.962292875163257e-05\n",
      "epoch 6, loss 0.0002707378880586475\n",
      "epoch 7, loss 0.0002867454895749688\n",
      "epoch 8, loss 0.0003658214118331671\n",
      "epoch 9, loss 0.0002657960285432637\n",
      "epoch 10, loss 0.0002265226503368467\n",
      "epoch 11, loss 0.00019969281856901944\n",
      "epoch 12, loss 0.00022274415823630989\n",
      "epoch 13, loss 0.00023308239178732038\n",
      "epoch 14, loss 0.00023802247596904635\n",
      "epoch 15, loss 0.00023451083688996732\n",
      "epoch 16, loss 0.00023660881561227143\n",
      "epoch 17, loss 0.00023945438442751765\n",
      "epoch 18, loss 0.00024090142687782645\n",
      "epoch 19, loss 0.00023872635210864246\n",
      "epoch 20, loss 0.0002357493940507993\n",
      "epoch 21, loss 0.00023130295448936522\n",
      "epoch 22, loss 0.00023620165302418172\n",
      "epoch 23, loss 0.00023027406132314354\n",
      "epoch 24, loss 0.00022014451678842306\n",
      "epoch 25, loss 0.00015051572700031102\n",
      "epoch 26, loss 0.00015377975068986416\n",
      "epoch 27, loss 0.00017996769747696817\n",
      "epoch 28, loss 6.813727668486536e-05\n",
      "epoch 29, loss 0.00024954412947408855\n",
      "epoch 30, loss 0.00019433567649684846\n",
      "epoch 31, loss 0.0003706091665662825\n",
      "epoch 32, loss 0.0001946119882632047\n",
      "epoch 33, loss 0.00023687767679803073\n",
      "epoch 34, loss 0.0002613264659885317\n",
      "epoch 35, loss 0.00026732857804745436\n",
      "epoch 36, loss 0.0002585970505606383\n",
      "epoch 37, loss 0.00023043685359880328\n",
      "epoch 38, loss 0.00022385819465853274\n",
      "epoch 39, loss 0.00022137255291454494\n",
      "epoch 40, loss 0.00021847581956535578\n",
      "epoch 41, loss 0.00021569902310147882\n",
      "epoch 42, loss 0.00021063207532279193\n",
      "epoch 43, loss 0.0002034114149864763\n",
      "epoch 44, loss 0.00019429242820478976\n",
      "epoch 45, loss 0.000188687932677567\n",
      "epoch 46, loss 0.00021903266315348446\n",
      "epoch 47, loss 0.00029886382981203496\n",
      "epoch 48, loss 0.0003685249830596149\n",
      "epoch 49, loss 0.0002610347873996943\n",
      "epoch 50, loss 0.00019570926087908447\n",
      "epoch 51, loss 0.00020299258176237345\n",
      "epoch 52, loss 0.00018993584671989083\n",
      "epoch 53, loss 0.00020179747662041336\n",
      "epoch 54, loss 0.0003256590571254492\n",
      "epoch 55, loss 0.00022988268756307662\n",
      "epoch 56, loss 0.000267081952188164\n",
      "epoch 57, loss 0.00018685749091673642\n",
      "epoch 58, loss 0.0002505265874788165\n",
      "epoch 59, loss 0.00018652857397682965\n",
      "epoch 60, loss 0.00021733377070631832\n",
      "epoch 61, loss 0.00018869992345571518\n",
      "epoch 62, loss 0.00018819671822711825\n",
      "epoch 63, loss 0.00020896113710477948\n",
      "epoch 64, loss 0.00020350070553831756\n",
      "epoch 65, loss 0.0001882096694316715\n",
      "epoch 66, loss 0.00028392381500452757\n",
      "epoch 67, loss 0.0003680429654195905\n",
      "epoch 68, loss 0.0001921954972203821\n",
      "epoch 69, loss 0.00018911523511633277\n",
      "epoch 70, loss 0.0002468227467034012\n",
      "epoch 71, loss 0.00033684054506011307\n",
      "epoch 72, loss 0.000295355188427493\n",
      "epoch 73, loss 0.0001926022523548454\n",
      "epoch 74, loss 0.0002697310992516577\n",
      "epoch 75, loss 0.00022943058866076171\n",
      "epoch 76, loss 0.000195717642782256\n",
      "epoch 77, loss 0.00019321677973493934\n",
      "epoch 78, loss 0.00022224546410143375\n",
      "epoch 79, loss 0.00018673043814487755\n",
      "epoch 80, loss 0.0001964686525752768\n",
      "epoch 81, loss 0.0001903834199765697\n",
      "epoch 82, loss 0.00019502395298331976\n",
      "epoch 83, loss 0.00020530390611384064\n",
      "epoch 84, loss 0.0003526037617120892\n",
      "epoch 85, loss 0.00025099405320361257\n",
      "epoch 86, loss 0.00025795793044380844\n",
      "epoch 87, loss 0.00022434041602537036\n",
      "epoch 88, loss 0.00029123565764166415\n",
      "epoch 89, loss 0.00025357003323733807\n",
      "epoch 90, loss 0.00021293637109920382\n",
      "epoch 91, loss 0.0002063204301521182\n",
      "epoch 92, loss 0.00025556888431310654\n",
      "epoch 93, loss 0.0002353284799028188\n",
      "epoch 94, loss 0.00019251424237154424\n",
      "epoch 95, loss 0.00021588007803075016\n",
      "epoch 96, loss 0.0002324683591723442\n",
      "epoch 97, loss 0.00019873931887559593\n",
      "epoch 98, loss 0.00027482176665216684\n",
      "epoch 99, loss 0.00025709837791509926\n",
      "epoch 100, loss 0.00021328710136003792\n"
     ]
    }
   ],
   "source": [
    "num_epochs = 100\n",
    "start=time.time()\n",
    "\n",
    "for epoch in range(num_epochs):\n",
    "    l_test=0\n",
    "    for X,y in train_data:\n",
    "        X=X.reshape(-1,1)\n",
    "        X,y=X.to(device),y.to(device)\n",
    "\n",
    "        optimizer_dS.zero_grad()\n",
    "        out=net.dS(X).transpose(0, 1).squeeze()\n",
    "        loss_dS=loss(out,y[:,0])\n",
    "        loss_dS.backward()\n",
    "        optimizer_dS.step()\n",
    "\n",
    "        optimizer_dI.zero_grad()\n",
    "        out=net.dI(X).transpose(0, 1).squeeze()\n",
    "        loss_dI=loss(out,y[:,1])\n",
    "        loss_dI.backward()\n",
    "        optimizer_dI.step()\n",
    "\n",
    "        optimizer_dR.zero_grad()\n",
    "        out=net.dR(X).transpose(0, 1).squeeze()\n",
    "        loss_dR=loss(out,y[:,2])\n",
    "        loss_dR.backward()\n",
    "        optimizer_dR.step()\n",
    "\n",
    "        optimizer_dD.zero_grad()\n",
    "        out=net.dD(X).transpose(0, 1).squeeze()\n",
    "        loss_dD=loss(out,y[:,3])\n",
    "        loss_dD.backward()\n",
    "        optimizer_dD.step()\n",
    "\n",
    "        optimizer_dN.zero_grad()\n",
    "        out=net.dN(X).transpose(0, 1).squeeze()\n",
    "        loss_dN=loss(out,y[:,4])\n",
    "        loss_dN.backward()\n",
    "        optimizer_dN.step()\n",
    "\n",
    "        train_loss=loss_dS + loss_dI + loss_dR + loss_dD + loss_dN\n",
    "\n",
    "        # print(f'train_loss is {train_loss}')\n",
    "\n",
    "\n",
    "\n",
    "    with torch.no_grad():\n",
    "        i=1\n",
    "        for a,b in test_data:\n",
    "            a=a.to(device)\n",
    "            b=b.to(device)\n",
    "            a=a.reshape(-1,1)\n",
    "            out=net(a).transpose(0, 1).squeeze()\n",
    "            l_test+= loss(out,b)\n",
    "            i+=1\n",
    "    print(f'epoch {epoch + 1}, loss {l_test/i}')\n",
    "# print(time.time()-start)"
   ],
   "metadata": {
    "collapsed": false
   }
  },
  {
   "cell_type": "code",
   "execution_count": 65,
   "outputs": [
    {
     "name": "stdout",
     "output_type": "stream",
     "text": [
      "tensor([[0.0009],\n",
      "        [0.0019],\n",
      "        [0.0028],\n",
      "        [0.0038],\n",
      "        [0.0047],\n",
      "        [0.0056],\n",
      "        [0.0066],\n",
      "        [0.0075],\n",
      "        [0.0084],\n",
      "        [0.0094],\n",
      "        [0.0103],\n",
      "        [0.0113],\n",
      "        [0.0122],\n",
      "        [0.0131],\n",
      "        [0.0141],\n",
      "        [0.0150],\n",
      "        [0.0159],\n",
      "        [0.0169],\n",
      "        [0.0178],\n",
      "        [0.0188],\n",
      "        [0.0197],\n",
      "        [0.0206],\n",
      "        [0.0216],\n",
      "        [0.0225],\n",
      "        [0.0235],\n",
      "        [0.0244],\n",
      "        [0.0253],\n",
      "        [0.0263],\n",
      "        [0.0272],\n",
      "        [0.0281],\n",
      "        [0.0291],\n",
      "        [0.0300],\n",
      "        [0.0310],\n",
      "        [0.0319],\n",
      "        [0.0328],\n",
      "        [0.0338],\n",
      "        [0.0347],\n",
      "        [0.0356],\n",
      "        [0.0366],\n",
      "        [0.0375],\n",
      "        [0.0385],\n",
      "        [0.0394],\n",
      "        [0.0403],\n",
      "        [0.0413],\n",
      "        [0.0422],\n",
      "        [0.0432],\n",
      "        [0.0441],\n",
      "        [0.0450],\n",
      "        [0.0460],\n",
      "        [0.0469],\n",
      "        [0.0478],\n",
      "        [0.0488],\n",
      "        [0.0497],\n",
      "        [0.0507],\n",
      "        [0.0516],\n",
      "        [0.0525],\n",
      "        [0.0535],\n",
      "        [0.0544],\n",
      "        [0.0553],\n",
      "        [0.0563],\n",
      "        [0.0572],\n",
      "        [0.0582],\n",
      "        [0.0591],\n",
      "        [0.0600],\n",
      "        [0.0610],\n",
      "        [0.0619],\n",
      "        [0.0629],\n",
      "        [0.0638],\n",
      "        [0.0647],\n",
      "        [0.0657],\n",
      "        [0.0666],\n",
      "        [0.0675],\n",
      "        [0.0685],\n",
      "        [0.0694],\n",
      "        [0.0704],\n",
      "        [0.0713],\n",
      "        [0.0722],\n",
      "        [0.0732],\n",
      "        [0.0741],\n",
      "        [0.0750],\n",
      "        [0.0760],\n",
      "        [0.0769],\n",
      "        [0.0779],\n",
      "        [0.0788],\n",
      "        [0.0797],\n",
      "        [0.0807],\n",
      "        [0.0816],\n",
      "        [0.0826],\n",
      "        [0.0835],\n",
      "        [0.0844],\n",
      "        [0.0854],\n",
      "        [0.0863],\n",
      "        [0.0872],\n",
      "        [0.0882],\n",
      "        [0.0891],\n",
      "        [0.0901],\n",
      "        [0.0910],\n",
      "        [0.0919],\n",
      "        [0.0929],\n",
      "        [0.0938],\n",
      "        [0.0948],\n",
      "        [0.0957],\n",
      "        [0.0966],\n",
      "        [0.0976],\n",
      "        [0.0985],\n",
      "        [0.0994],\n",
      "        [0.1004],\n",
      "        [0.1013],\n",
      "        [0.1023],\n",
      "        [0.1032],\n",
      "        [0.1041],\n",
      "        [0.1051],\n",
      "        [0.1060],\n",
      "        [0.1069],\n",
      "        [0.1079],\n",
      "        [0.1088],\n",
      "        [0.1098],\n",
      "        [0.1107],\n",
      "        [0.1116],\n",
      "        [0.1126],\n",
      "        [0.1135],\n",
      "        [0.1145],\n",
      "        [0.1154],\n",
      "        [0.1163],\n",
      "        [0.1173],\n",
      "        [0.1182],\n",
      "        [0.1191],\n",
      "        [0.1201],\n",
      "        [0.1210],\n",
      "        [0.1220],\n",
      "        [0.1229],\n",
      "        [0.1238],\n",
      "        [0.1248],\n",
      "        [0.1257],\n",
      "        [0.1266],\n",
      "        [0.1276],\n",
      "        [0.1285],\n",
      "        [0.1295],\n",
      "        [0.1304],\n",
      "        [0.1313],\n",
      "        [0.1323],\n",
      "        [0.1332],\n",
      "        [0.1342],\n",
      "        [0.1351],\n",
      "        [0.1360],\n",
      "        [0.1370],\n",
      "        [0.1379],\n",
      "        [0.1388],\n",
      "        [0.1398],\n",
      "        [0.1407]])\n"
     ]
    },
    {
     "data": {
      "text/plain": "[<matplotlib.lines.Line2D at 0x1ba93023460>]"
     },
     "execution_count": 65,
     "metadata": {},
     "output_type": "execute_result"
    },
    {
     "data": {
      "text/plain": "<Figure size 640x480 with 1 Axes>",
      "image/png": "[encoded data removed]"
     },
     "metadata": {},
     "output_type": "display_data"
    }
   ],
   "source": [
    "net.to('cpu')\n",
    "test=simulation_normalized[:,-1].reshape(-1,1).float()\n",
    "print(test)\n",
    "pre=net.dI(test)\n",
    "plt.plot(pre.detach())"
   ],
   "metadata": {
    "collapsed": false
   }
  },
  {
   "cell_type": "code",
   "execution_count": 268,
   "outputs": [],
   "source": [
    "denormalized_simulation = out * (col_max - col_min) + col_min"
   ],
   "metadata": {
    "collapsed": false
   }
  },
  {
   "cell_type": "code",
   "execution_count": null,
   "outputs": [],
   "source": [],
   "metadata": {
    "collapsed": false
   }
  },
  {
   "cell_type": "code",
   "execution_count": null,
   "outputs": [],
   "source": [],
   "metadata": {
    "collapsed": false
   }
  },
  {
   "cell_type": "code",
   "execution_count": null,
   "outputs": [],
   "source": [],
   "metadata": {
    "collapsed": false
   }
  },
  {
   "cell_type": "code",
   "execution_count": null,
   "outputs": [],
   "source": [],
   "metadata": {
    "collapsed": false
   }
  },
  {
   "cell_type": "code",
   "execution_count": null,
   "outputs": [],
   "source": [],
   "metadata": {
    "collapsed": false
   }
  },
  {
   "cell_type": "code",
   "execution_count": 61,
   "outputs": [],
   "source": [
    "def get_data(data,tau,T):\n",
    "    data=torch.tensor(data)\n",
    "    features = torch.zeros((T - tau, tau))\n",
    "    for i in range(tau):\n",
    "        features[:, i] = data[i: T - tau + i]\n",
    "    labels = data[tau:].reshape((-1, 1))\n",
    "    batch_size, n_train = 10, 8000\n",
    "    train_iter = d2l.load_array((features[:n_train], labels[:n_train]),batch_size, is_train=True)\n",
    "    return train_iter,features,labels"
   ],
   "metadata": {
    "collapsed": false
   }
  },
  {
   "cell_type": "code",
   "execution_count": 62,
   "outputs": [],
   "source": [
    "dSdt, dIdt, dRdt, dDdt, dNdt=simulation[:,0],simulation[:,1],simulation[:,2],simulation[:,3],simulation[:,4]"
   ],
   "metadata": {
    "collapsed": false
   }
  },
  {
   "cell_type": "code",
   "execution_count": null,
   "outputs": [],
   "source": [],
   "metadata": {
    "collapsed": false
   }
  },
  {
   "cell_type": "code",
   "execution_count": null,
   "outputs": [],
   "source": [],
   "metadata": {
    "collapsed": false
   }
  },
  {
   "cell_type": "code",
   "execution_count": 63,
   "outputs": [],
   "source": [
    "tau = 1\n",
    "S_train,S_features,S_labels=get_data(dSdt,tau,T)\n",
    "I_train,I_features,I_labels=get_data(dIdt,tau,T)\n",
    "R_train,R_features,R_labels=get_data(dRdt,tau,T)\n",
    "D_train,D_features,D_labels=get_data(dDdt,tau,T)\n",
    "N_train,N_features,N_labels=get_data(dNdt,tau,T)"
   ],
   "metadata": {
    "collapsed": false
   }
  },
  {
   "cell_type": "code",
   "execution_count": null,
   "outputs": [],
   "source": [],
   "metadata": {
    "collapsed": false
   }
  },
  {
   "cell_type": "code",
   "execution_count": null,
   "outputs": [],
   "source": [],
   "metadata": {
    "collapsed": false
   }
  },
  {
   "cell_type": "code",
   "execution_count": null,
   "outputs": [],
   "source": [],
   "metadata": {
    "collapsed": false
   }
  },
  {
   "cell_type": "code",
   "execution_count": null,
   "outputs": [],
   "source": [],
   "metadata": {
    "collapsed": false
   }
  },
  {
   "cell_type": "code",
   "execution_count": null,
   "outputs": [],
   "source": [],
   "metadata": {
    "collapsed": false
   }
  },
  {
   "cell_type": "code",
   "execution_count": null,
   "outputs": [],
   "source": [],
   "metadata": {
    "collapsed": false
   }
  },
  {
   "cell_type": "code",
   "execution_count": 66,
   "outputs": [],
   "source": [
    "class parameter_layer(nn.Module):\n",
    "    def __init__(self, input_size, hidden_size, num_layers, output_size):\n",
    "        super(parameter_layer, self).__init__()\n",
    "        self.hidden_size = hidden_size\n",
    "        self.num_layers = num_layers\n",
    "        self.lstm = nn.LSTM(input_size, hidden_size, num_layers, batch_first=True)\n",
    "        self.fc = nn.Linear(hidden_size, output_size)\n",
    "        for name, param in self.lstm.named_parameters():\n",
    "            if 'weight' in name:\n",
    "                torch.nn.init.xavier_normal_(param)\n",
    "            elif 'bias' in name:\n",
    "                torch.nn.init.constant_(param, 0.0)\n",
    "\n",
    "    def forward(self, x):\n",
    "        h0 = torch.zeros(self.num_layers, x.size(0), self.hidden_size).to(device=x.device)\n",
    "        c0 = torch.zeros(self.num_layers, x.size(0), self.hidden_size).to(device=x.device)\n",
    "        # 转换维度\n",
    "        x = x.view(x.size(0), 1, x.size(1))\n",
    "        # 前向\n",
    "        out, _ = self.lstm(x, (h0, c0))\n",
    "        # 解码\n",
    "        out = self.fc(out[:, -1, :])\n",
    "        return out"
   ],
   "metadata": {
    "collapsed": false
   }
  },
  {
   "cell_type": "code",
   "execution_count": 50,
   "outputs": [
    {
     "ename": "AttributeError",
     "evalue": "'numpy.ndarray' object has no attribute 'type'",
     "output_type": "error",
     "traceback": [
      "\u001B[1;31m---------------------------------------------------------------------------\u001B[0m",
      "\u001B[1;31mAttributeError\u001B[0m                            Traceback (most recent call last)",
      "Cell \u001B[1;32mIn[50], line 1\u001B[0m\n\u001B[1;32m----> 1\u001B[0m \u001B[43mdSdt\u001B[49m\u001B[43m[\u001B[49m\u001B[38;5;241;43m0\u001B[39;49m\u001B[43m:\u001B[49m\u001B[38;5;241;43m99\u001B[39;49m\u001B[43m]\u001B[49m\u001B[38;5;241;43m.\u001B[39;49m\u001B[43mtype\u001B[49m()\n",
      "\u001B[1;31mAttributeError\u001B[0m: 'numpy.ndarray' object has no attribute 'type'"
     ]
    }
   ],
   "source": [
    "class MyLinear(nn.Module):\n",
    "    def __init__(self, input_size, hidden_size, num_layers, output_size):\n",
    "        super(MyLinear,self).__init__()\n",
    "        self.beta = parameter_layer(input_size, hidden_size, num_layers, output_size)\n",
    "        self.gamma=parameter_layer(input_size, hidden_size, num_layers, output_size)\n",
    "        self.I=nn.Sequential(\n",
    "            nn.Linear(input_size,10),\n",
    "            nn.ReLU(),\n",
    "            nn.Linear(10,1)\n",
    "        )\n",
    "    def forward(self, x):\n",
    "        linear =self.beta(x)*self.I(x) +self.gamma(x)\n",
    "        return linear"
   ],
   "metadata": {
    "collapsed": false
   }
  },
  {
   "cell_type": "code",
   "execution_count": null,
   "outputs": [],
   "source": [],
   "metadata": {
    "collapsed": false
   }
  }
 ],
 "metadata": {
  "kernelspec": {
   "display_name": "Python 3",
   "language": "python",
   "name": "python3"
  },
  "language_info": {
   "codemirror_mode": {
    "name": "ipython",
    "version": 2
   },
   "file_extension": ".py",
   "mimetype": "text/x-python",
   "name": "python",
   "nbconvert_exporter": "python",
   "pygments_lexer": "ipython2",
   "version": "2.7.6"
  }
 },
 "nbformat": 4,
 "nbformat_minor": 0
}
